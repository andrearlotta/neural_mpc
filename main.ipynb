{
 "cells": [
  {
   "cell_type": "markdown",
   "metadata": {},
   "source": [
    "## Model training\n",
    "\n",
    "We use data from a file or a function generation to train a perception surrogate $g(\\Delta x)$.\n",
    "In this case $\\Delta x$ is defined as the relative position (distance) between a tree and the drone: $\\Delta x = \\| x - t_i \\|$"
   ]
  },
  {
   "cell_type": "code",
   "execution_count": null,
   "metadata": {},
   "outputs": [
    {
     "data": {
      "image/png": "[encoded data removed]",
      "text/plain": [
       "<Figure size 640x480 with 1 Axes>"
      ]
     },
     "metadata": {},
     "output_type": "display_data"
    }
   ],
   "source": [
    "import numpy as np\n",
    "import matplotlib.pyplot as plt\n",
    "\n",
    "def generate_data():\n",
    "  \"\"\"\n",
    "  This function returns a set of x (relative angle and/or distance) and y (confidences) for the perception model\n",
    "  \"\"\"\n",
    "  x = np.linspace(0, 5, 100)\n",
    "  y = -(x/8)**2 + 0.8\n",
    "  y = np.clip(y, a_min=0.5, a_max=1.0)\n",
    "  \n",
    "  return x, y\n",
    "\n",
    "x_data, y_label = generate_data()\n",
    "\n",
    "plt.plot(data[0], data[1])\n",
    "plt.show()\n",
    "\n",
    "def load_data():\n",
    "  # TODO\n",
    "  pass"
   ]
  },
  {
   "cell_type": "markdown",
   "metadata": {},
   "source": [
    "## Train surrogate model\n",
    "\n",
    "With the previous data, train a surrogate model (gaussian process or NN)"
   ]
  },
  {
   "cell_type": "code",
   "execution_count": null,
   "metadata": {},
   "outputs": [],
   "source": [
    "# TODO: Define a simple NN\n",
    "# TODO: Define the GP"
   ]
  },
  {
   "cell_type": "code",
   "execution_count": null,
   "metadata": {},
   "outputs": [],
   "source": [
    "import torch\n",
    "from torch.utils.data import DataLoader, TensorDataset\n",
    "\n",
    "# TODO: Train"
   ]
  },
  {
   "cell_type": "markdown",
   "metadata": {},
   "source": [
    "## Define the working environment\n",
    "\n",
    "The problem definition is as follows:\n",
    "\n",
    "$x$ state of the robot defined by the position of the drone and its velocity [x, y ,z, vx, vy, vz]\n",
    "\n",
    "$f(x, u)$ state transition function for the drone\n",
    "\n",
    "$u$ acceleration commands to the drone [ax, ay, az]\n",
    "\n",
    "$t \\in T$ tree positions for the $T$ trees [[tx_1, ty_2], ... , [tx_T, ty_T]]\n",
    "\n",
    "$\\lambda$ belief for the trees maturity confidence [\\lambda_1, ..., \\lambda_T] (values from 0 to 1). For practicity, it can be seen as part of $x$\n",
    "\n",
    "$z$ observation vector for the tree maturity confidence [z_1, ..., z_T] (values from 0 to 1)\n",
    "\n",
    "$g(\\Delta x)$ observation surrogate. It is applied to every tree.\n",
    "\n",
    "$b(\\lambda, z)$ bayesian update to the previous belief.\n",
    "\n",
    "$H(\\lambda)$ entropy function for the belief defined (for the case of binary distribution) as: $-\\lambda \\log{\\lambda} - (1-\\lambda) \\log(1-\\lambda)$.\n",
    "\n",
    "$J(\\lambda)$ the cost function of the MPC defined as: $\\sum_{1, ..., n} \\delta_1 H(\\lambda_i) * \\delta_2 \\Delta x_i^2 + \\delta_3 \\|u\\|$. They correspond to trying to reduce the entropy for each of the trees using $\\Delta x_i^2$ to guide the planner when there is no observation, and reduce the control inputs.\n",
    "\n",
    "The steps of the system are as follows:\n",
    "1. Load learned $g()$ which works for one tree.\n",
    "2. Initialize $x$ in a $x_0$ position, $\\lambda$ with $0.5$ values for each tree, and $t$ as known.\n",
    "3. Run the NMPC from $x$ for $N$ iterations. In each step:\n",
    "  - Compute $\\Delta x$ for each tree with the new drone $x$.\n",
    "  - Get estimation from NN for each tree: $z = g(\\Delta x)$.\n",
    "  - Fuse the estimation in $\\lambda$ for each tree: $\\lambda_{k} = b(\\lambda_{k-1}, z)$\n",
    "4. Apply the solution from the MPC.\n",
    "5. Get a real observation.\n",
    "6. Integrate the real observation into $\\lambda$.\n",
    "7. Go back to step 3."
   ]
  },
  {
   "cell_type": "code",
   "execution_count": null,
   "metadata": {},
   "outputs": [],
   "source": [
    "# TODO define the MPC model and cost function with equations to:\n",
    "\n",
    "  # TODO: compute \\Delta x for each tree\n",
    "  # TODO: get estimation from g() for each tree\n",
    "  # TODO: Fuse the estimation in lambda for each tree\n",
    "\n",
    "# TODO define the MPC opt function.\n",
    "\n",
    "# TODO Main\n",
    "\n",
    "# Initialize x_0, lambda, and t\n",
    "\n",
    "# Main loop\n",
    "\n",
    "  # 3. Run MPC\n",
    "\n",
    "  # 4. Apply command to the drone updating its pose\n",
    "\n",
    "  # 5. Get a real observation\n",
    "\n",
    "  # 6. Integrate observation into lambda\n"
   ]
  }
 ],
 "metadata": {
  "kernelspec": {
   "display_name": "nmpc-env",
   "language": "python",
   "name": "python3"
  },
  "language_info": {
   "codemirror_mode": {
    "name": "ipython",
    "version": 3
   },
   "file_extension": ".py",
   "mimetype": "text/x-python",
   "name": "python",
   "nbconvert_exporter": "python",
   "pygments_lexer": "ipython3",
   "version": "3.12.3"
  }
 },
 "nbformat": 4,
 "nbformat_minor": 2
}
