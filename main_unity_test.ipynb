{
 "cells": [
  {
   "cell_type": "markdown",
   "metadata": {},
   "source": [
    "## Train surrogate model\n",
    "\n",
    "With the previous data, train a surrogate model (gaussian process or NN)"
   ]
  },
  {
   "cell_type": "markdown",
   "metadata": {},
   "source": [
    "## Model training\n",
    "\n",
    "We use data from a file or a function generation to train a perception surrogate $g(\\Delta x)$.\n",
    "In this case $\\Delta x$ is defined as the relative position (distance) between a tree and the drone: $\\Delta x = \\| x - t_i \\|$"
   ]
  },
  {
   "cell_type": "code",
   "execution_count": 43,
   "metadata": {},
   "outputs": [],
   "source": [
    "import numpy as np\n",
    "import matplotlib.pyplot as plt\n",
    "from plotly.subplots import make_subplots\n",
    "import plotly.graph_objects as go"
   ]
  },
  {
   "cell_type": "code",
   "execution_count": 44,
   "metadata": {},
   "outputs": [],
   "source": [
    "import torch\n",
    "import os\n",
    "import csv\n",
    "import random\n",
    "\n",
    "import numpy as np\n",
    "from scipy.stats import norm  # For Gaussian PDF\n",
    "\n",
    "\n",
    "def load_data(polar=False, fixedView=False, ripe=True, n_input=3, subset_ratio=1.0, augment_data=True):\n",
    "    # Get the current working directory if __file__ is not available\n",
    "    script_dir = os.getcwd()  # Use current working directory as fallback\n",
    "\n",
    "    # Define the base directory for datasets\n",
    "    base_dir = os.path.join(script_dir, \"datasets\")  # Adjust subdirectory name as needed\n",
    "    \n",
    "    # Adjust paths based on parameters\n",
    "    base_dir = os.path.join(base_dir, \"polar\" if polar else \"cartesian\")\n",
    "    base_dir = os.path.join(base_dir, \"fixed_view\" if fixedView else \"variable_view\")\n",
    "    base_dir = os.path.join(base_dir, \"ripe\" if ripe else \"raw\")\n",
    "    \n",
    "    # Output CSV filename\n",
    "    output_csv_filename = 'SurrogateDatasetCNN.csv'\n",
    "\n",
    "    def find_latest_folder(base_dir):\n",
    "        \"\"\"Finds the latest dated folder in the base directory.\"\"\"\n",
    "        # List all subdirectories in the base_dir\n",
    "        subdirs = [d for d in os.listdir(base_dir) if os.path.isdir(os.path.join(base_dir, d))]\n",
    "        \n",
    "        # Sort the directories by their modified time in reverse (latest first)\n",
    "        latest_folder = max(subdirs, key=lambda d: os.path.getmtime(os.path.join(base_dir, d)))\n",
    "        return os.path.join(base_dir, latest_folder)\n",
    "\n",
    "    # Find the latest dataset folder\n",
    "    latest_dataset_folder = find_latest_folder(base_dir=base_dir)\n",
    "    \n",
    "    # Create the full path to the CSV file\n",
    "    DATA_PATH = os.path.join(latest_dataset_folder, output_csv_filename)\n",
    "    print(f\"Loading data from: {DATA_PATH}\")\n",
    "    \n",
    "    # Initialize lists to store data\n",
    "    X = []  \n",
    "    Y = []\n",
    "    \n",
    "    # Read the CSV file\n",
    "    with open(DATA_PATH, 'r') as infile:\n",
    "        data = csv.reader(infile)\n",
    "        next(data)  # Skip the header\n",
    "        for row in data:\n",
    "            a, b, c, _, value_raw, value_ripe, _ = map(float, row)\n",
    "            \n",
    "            # Process input features\n",
    "            if n_input == 3:\n",
    "                # Normalize angle to [-π, π]\n",
    "                X.append([a, b, c])\n",
    "            else:\n",
    "                X.append([a, b])\n",
    "            \n",
    "            # Scale the target value\n",
    "            Y.append( ( value_ripe if ripe else (value_raw)))\n",
    "    \n",
    "    # Convert lists to numpy arrays\n",
    "    X_np = np.array(X)\n",
    "    Y_np = np.array(Y)\n",
    "    \n",
    "    # Randomly sample a subset of the data based on the subset_ratio\n",
    "    if subset_ratio < 1.0:\n",
    "        num_samples = int(len(X_np) * subset_ratio)\n",
    "        indices = np.random.choice(len(X_np), num_samples, replace=False)\n",
    "        X_np = X_np[indices]\n",
    "        Y_np = Y_np[indices]\n",
    "    \n",
    "    def generate_surrogate_augmented_data(X, num_samples):\n",
    "        x_min = (np.sqrt(X[:, 0]**2 + X[:, 1]**2)).min()\n",
    "        x_max = (np.sqrt(X[:, 0]**2 + X[:, 1]**2)).max()\n",
    "        yaw_values = [30, -30, 60, -60, 90, -90, 180, -180]\n",
    "        \n",
    "        synthetic_X = []\n",
    "        synthetic_Y = []\n",
    "        \n",
    "        for _ in range(num_samples):\n",
    "            theta = random.uniform(-np.pi, np.pi)\n",
    "            r = random.choice([random.uniform(0, x_min), random.uniform(x_max, x_max +5)])\n",
    "            a = r * np.cos(theta) \n",
    "            b = r * np.sin(theta)\n",
    "            c = np.radians(random.choice(yaw_values))\n",
    "            value = 0.5\n",
    "            synthetic_X.append([a, b, c])\n",
    "            synthetic_Y.append(value)\n",
    "\n",
    "        return np.array(synthetic_X), np.array(synthetic_Y)\n",
    "\n",
    "    if not augment_data: return  torch.tensor(X_np, dtype=torch.float), torch.tensor(Y_np, dtype=torch.float)\n",
    "    # Generate augmented (synthetic) data\n",
    "    synthetic_X, synthetic_Y = generate_surrogate_augmented_data(X_np, int(len(X_np)*0.2))\n",
    "    \n",
    "    # Concatenate the original and synthetic datasets along the first axis (rows)\n",
    "    X_extended = np.concatenate((X_np, synthetic_X), axis=0)\n",
    "    Y_extended = np.concatenate((Y_np, synthetic_Y), axis=0)\n",
    "    \n",
    "    # Convert the extended arrays to PyTorch tensors\n",
    "    X_tensor = torch.tensor(X_extended, dtype=torch.float)\n",
    "    Y_tensor = torch.tensor(Y_extended, dtype=torch.float)\n",
    "    return X_tensor, Y_tensor\n",
    "\n",
    "def fake_confidence(drone_pos, tree_pos, fov=40, dist_threshold = 5):\n",
    "    \"\"\"\n",
    "    Simulates the confidence output of the NN.\n",
    "    \"\"\"\n",
    "    direction = tree_pos - drone_pos[:2]\n",
    "    distance = np.sqrt(np.sum(direction**2))\n",
    "    result = np.full_like(distance, 0.5)\n",
    "    \n",
    "    \n",
    "    theta = drone_pos[2]\n",
    "    drone_forward = np.array([np.cos(theta), np.sin(theta)])\n",
    "    n_direction = direction / distance\n",
    "    ang_fov_tree = n_direction.T @ drone_forward  # Dot product (cos(angolo))\n",
    "    fov_threshold = np.cos(np.deg2rad(fov))\n",
    "    \n",
    "    if distance < 0.2 or distance > dist_threshold:\n",
    "        result = 0.5\n",
    "    elif ang_fov_tree >= fov_threshold and np.cos(np.arctan2(direction[1], direction[0])) > 0:  # Drone is facing the tree\n",
    "        result = norm.pdf(distance, loc=3.5, scale=2.0) + 0.5\n",
    "    return result\n",
    "\n",
    "def generate_fake_dataset(\n",
    "    samples_xy, \n",
    "    samples_yaw, \n",
    "    x_dimension, \n",
    "    use_fov=True,\n",
    "    x_low=-8,          # Lower bound for drone X position\n",
    "    x_high=8,          # Upper bound for drone X position\n",
    "    y_low=-8,          # Lower bound for drone Y position\n",
    "    y_high=8,          # Upper bound for drone Y position\n",
    "    tree_low=-8,       # Lower bound for tree position\n",
    "    tree_high=8        # Upper bound for tree position\n",
    "):\n",
    "    synthetic_X = []\n",
    "    synthetic_Y = []\n",
    "    \n",
    "    # Define ranges for drone positions with parameterized bounds\n",
    "    x_range = np.linspace(x_low, x_high, samples_xy)\n",
    "    y_range = np.linspace(y_low, y_high, samples_xy)\n",
    "    yaw_range = np.linspace(-np.pi, np.pi, samples_yaw)\n",
    "\n",
    "    for x in x_range:\n",
    "        for y in y_range:\n",
    "            if use_fov:\n",
    "                for yaw in yaw_range:\n",
    "                    tree_pos = np.random.uniform(low=tree_low, high=tree_high, size=(1, 2))\n",
    "                    drone_pos = np.array([x, y, yaw])\n",
    "                    value = fake_confidence(drone_pos, tree_pos.flatten())\n",
    "                    synthetic_X.append(\n",
    "                        np.concatenate((drone_pos[:x_dimension], tree_pos.flatten()))\n",
    "                    )\n",
    "                    synthetic_Y.append(value)\n",
    "            else:\n",
    "                tree_pos = np.random.uniform(low=tree_low, high=tree_high, size=(1, 2))\n",
    "                drone_pos = np.array([x, y, np.arctan2(-y, -x)])\n",
    "                value = fake_confidence(drone_pos, tree_pos.flatten())\n",
    "                synthetic_X.append(\n",
    "                    np.concatenate((drone_pos[:x_dimension], tree_pos.flatten()))\n",
    "                )\n",
    "                synthetic_Y.append(value)\n",
    "    \n",
    "    return torch.Tensor(np.array(synthetic_X)), torch.Tensor(np.array(synthetic_Y))"
   ]
  },
  {
   "cell_type": "code",
   "execution_count": 45,
   "metadata": {},
   "outputs": [],
   "source": [
    "hidden_size = 64\n",
    "hidden_layers = 8\n",
    "\n",
    "# Simple NN\n",
    "class MultiLayerPerceptron(torch.nn.Module):\n",
    "    def __init__(self, input_dim):\n",
    "        super().__init__()\n",
    "\n",
    "\n",
    "        self.input_layer = torch.nn.Linear(input_dim if not input_dim== 3 else input_dim+1, hidden_size)\n",
    "\n",
    "        hidden_layers = []\n",
    "        for i in range(3):\n",
    "            hidden_layers.append(torch.nn.Linear(hidden_size, hidden_size))\n",
    "\n",
    "        self.hidden_layer = torch.nn.ModuleList(hidden_layers)\n",
    "        self.out_layer = torch.nn.Linear(hidden_size, 1)\n",
    "\n",
    "    def forward(self, x):\n",
    "\n",
    "        if x.shape[-1] == 3:  # Check if the input has 3 dimensions\n",
    "            # Replace the angle with its sin and cos values\n",
    "            sin_cos =  torch.cat([torch.sin(x[..., -1:]), torch.cos(x[..., -1:])], dim=-1)\n",
    "            x = torch.cat([x[..., :-1], sin_cos], dim=-1)\n",
    "            x = self.input_layer(x)\n",
    "        for layer in self.hidden_layer:\n",
    "            x = torch.tanh(layer(x))\n",
    "        x = self.out_layer(x)\n",
    "        return x\n",
    "\n"
   ]
  },
  {
   "cell_type": "code",
   "execution_count": 46,
   "metadata": {},
   "outputs": [
    {
     "name": "stdout",
     "output_type": "stream",
     "text": [
      "Loading data from: /home/andre/wkspaces/ROS/neural_mpc/datasets/cartesian/fixed_view/raw/2025-03-26_16-48-34/SurrogateDatasetCNN.csv\n",
      "Features shape: torch.Size([64, 3])\n",
      "Targets shape: torch.Size([64])\n",
      "Models will be saved in: saved_models_3d/unity_dataset/raw/20250326_170224\n",
      "MultiLayerPerceptron(\n",
      "  (input_layer): Linear(in_features=4, out_features=64, bias=True)\n",
      "  (hidden_layer): ModuleList(\n",
      "    (0-2): 3 x Linear(in_features=64, out_features=64, bias=True)\n",
      "  )\n",
      "  (out_layer): Linear(in_features=64, out_features=1, bias=True)\n",
      ")\n",
      "Epoch [1/10] | Train Loss: 0.3017 | Val Loss: 0.2355\n",
      "Model saved to saved_models_3d/unity_dataset/raw/20250326_170224/best_model_epoch_1.pth\n",
      "Epoch [2/10] | Train Loss: 0.1695 | Val Loss: 0.1195\n",
      "Model saved to saved_models_3d/unity_dataset/raw/20250326_170224/best_model_epoch_2.pth\n",
      "Epoch [3/10] | Train Loss: 0.0750 | Val Loss: 0.0425\n",
      "Model saved to saved_models_3d/unity_dataset/raw/20250326_170224/best_model_epoch_3.pth\n",
      "Epoch [4/10] | Train Loss: 0.0212 | Val Loss: 0.0108\n",
      "Model saved to saved_models_3d/unity_dataset/raw/20250326_170224/best_model_epoch_4.pth\n",
      "Epoch [5/10] | Train Loss: 0.0050 | Val Loss: 0.0053\n",
      "Model saved to saved_models_3d/unity_dataset/raw/20250326_170224/best_model_epoch_5.pth\n",
      "Epoch [6/10] | Train Loss: 0.0025 | Val Loss: 0.0051\n",
      "Model saved to saved_models_3d/unity_dataset/raw/20250326_170224/best_model_epoch_6.pth\n",
      "Epoch [7/10] | Train Loss: 0.0020 | Val Loss: 0.0050\n",
      "Model saved to saved_models_3d/unity_dataset/raw/20250326_170224/best_model_epoch_7.pth\n",
      "Epoch [8/10] | Train Loss: 0.0018 | Val Loss: 0.0048\n",
      "Model saved to saved_models_3d/unity_dataset/raw/20250326_170224/best_model_epoch_8.pth\n",
      "Epoch [9/10] | Train Loss: 0.0018 | Val Loss: 0.0049\n",
      "Epoch [10/10] | Train Loss: 0.0016 | Val Loss: 0.0046\n",
      "Model saved to saved_models_3d/unity_dataset/raw/20250326_170224/best_model_epoch_10.pth\n"
     ]
    }
   ],
   "source": [
    "# Import necessary libraries\n",
    "import os\n",
    "import torch\n",
    "import torch.nn as nn\n",
    "import torch.optim as optim\n",
    "from torch.utils.data import DataLoader, TensorDataset, random_split\n",
    "from torch.utils.tensorboard import SummaryWriter\n",
    "import numpy as np\n",
    "import datetime\n",
    "\n",
    "train = True\n",
    "batch_size = 1\n",
    "lr = 1e-4\n",
    "epochs = 10\n",
    "validation_split = 0.3\n",
    "nn_input_dim = 3\n",
    "fixedView=True\n",
    "is_ripe = False\n",
    "\n",
    "X, Y =  load_data(fixedView=fixedView, ripe=is_ripe)\n",
    "\n",
    "print(\"Features shape:\", X.shape)\n",
    "print(\"Targets shape:\", Y.shape)\n",
    "\n",
    "if   train:\n",
    "    # Base directory to save models\n",
    "    base_model_dir = os.path.join(f\"saved_models_{nn_input_dim}d\",'unity_dataset')\n",
    "    os.makedirs(base_model_dir, exist_ok=True)\n",
    "    base_model_dir = os.path.join(base_model_dir,'ripe' if is_ripe else 'raw')\n",
    "    os.makedirs(base_model_dir, exist_ok=True)\n",
    "\n",
    "    # Create a new folder with the current timestamp\n",
    "    timestamp = datetime.datetime.now().strftime(\"%Y%m%d_%H%M%S\")\n",
    "    run_model_dir = os.path.join(base_model_dir, timestamp)\n",
    "    os.makedirs(run_model_dir, exist_ok=True)\n",
    "    print(\"Models will be saved in:\", run_model_dir)\n",
    "\n",
    "    # Prepare dataset\n",
    "    X = X[:,:3]\n",
    "    dataset = TensorDataset(X, Y)\n",
    "    # Train-validation split\n",
    "    num_train_samples = int((1 - validation_split) * len(dataset))\n",
    "    num_val_samples = len(dataset) - num_train_samples\n",
    "    train_dataset, val_dataset = random_split(dataset, [num_train_samples, num_val_samples])\n",
    "\n",
    "    train_loader = DataLoader(train_dataset, batch_size=batch_size, shuffle=True)\n",
    "    val_loader = DataLoader(val_dataset, batch_size=batch_size, shuffle=False)\n",
    "\n",
    "    # Initialize model\n",
    "    model =  MultiLayerPerceptron(input_dim=nn_input_dim)\n",
    "    criterion = torch.nn.MSELoss()\n",
    "    optimizer = torch.optim.Adam(model.parameters(), lr=lr)\n",
    "    device = torch.device('cuda' if torch.cuda.is_available() else 'cpu')\n",
    "    model.to(device)\n",
    "    print(model)\n",
    "\n",
    "    # Set up TensorBoard logging\n",
    "    log_dir = f\"runs/fcn_{datetime.datetime.now().strftime('%Y)-%m-%d_%H-%M-%S')}\"\n",
    "    writer = SummaryWriter(log_dir)\n",
    "\n",
    "\n",
    "    # Training loop with validation\n",
    "    best_val_loss = float('inf')\n",
    "\n",
    "    for epoch in range(epochs):\n",
    "        model.train()\n",
    "\n",
    "        # Train step\n",
    "        train_loss = 0\n",
    "        for batch_idx, (x_batch, y_batch) in enumerate(train_loader):\n",
    "            x_batch, y_batch = x_batch.to(device), y_batch.to(device)\n",
    "            y_pred = model(x_batch)\n",
    "            loss = criterion(y_pred, y_batch)\n",
    "            \n",
    "            optimizer.zero_grad()\n",
    "            loss.backward()\n",
    "            optimizer.step()\n",
    "\n",
    "            train_loss += loss.item()\n",
    "        \n",
    "        avg_train_loss = train_loss / len(train_loader)\n",
    "\n",
    "        # Validation step\n",
    "        model.eval()\n",
    "        val_loss = 0\n",
    "        with torch.no_grad():\n",
    "            for batch_idx, (x_batch, y_batch) in enumerate(val_loader):\n",
    "                x_batch, y_batch = x_batch.to(device), y_batch.to(device)\n",
    "                y_pred = model(x_batch)\n",
    "                loss = criterion(y_pred, y_batch)\n",
    "                val_loss += loss.item()\n",
    "        \n",
    "        avg_val_loss = val_loss / len(val_loader)\n",
    "\n",
    "        print(f\"Epoch [{epoch+1}/{epochs}] | Train Loss: {avg_train_loss:.4f} | Val Loss: {avg_val_loss:.4f}\")\n",
    "\n",
    "        # Log to TensorBoard\n",
    "        writer.add_scalar('Loss/train', avg_train_loss, epoch)\n",
    "        writer.add_scalar('Loss/val', avg_val_loss, epoch)\n",
    "        \n",
    "        # Save the model if validation loss improves\n",
    "        if avg_val_loss < best_val_loss:\n",
    "            best_val_loss = avg_val_loss\n",
    "            model_path = os.path.join(run_model_dir, f\"best_model_epoch_{epoch+1}.pth\")\n",
    "            torch.save(model.state_dict(), model_path)\n",
    "            print(f\"Model saved to {model_path}\")\n",
    "\n",
    "    writer.close()"
   ]
  },
  {
   "cell_type": "code",
   "execution_count": 47,
   "metadata": {},
   "outputs": [],
   "source": [
    "import re\n",
    "def get_latest_best_model(nn_input_dim, ripe):\n",
    "    # Base directory to save models\n",
    "    base_model_dir = os.path.join(f\"saved_models_{nn_input_dim}d\", 'unity_dataset')\n",
    "    base_model_dir = os.path.join(base_model_dir, 'ripe' if ripe else 'raw')\n",
    "    # Find the latest best model file\n",
    "    # List the run directories (assumed to be named with timestamps, e.g., \"20250204_153045\")\n",
    "    run_dirs = [d for d in os.listdir(base_model_dir) if os.path.isdir(os.path.join(base_model_dir, d))]\n",
    "    if not run_dirs:\n",
    "        raise ValueError(f\"No run directories found in: {base_model_dir}\")\n",
    "    \n",
    "    # Select the latest run directory (using lexicographical order assuming proper timestamp formatting)\n",
    "    latest_run = max(run_dirs)\n",
    "    latest_run_dir = os.path.join(base_model_dir, latest_run)\n",
    "    \n",
    "    # Within the latest run folder, find all files matching the best model naming pattern\n",
    "    best_model_files = [\n",
    "        f for f in os.listdir(latest_run_dir)\n",
    "        if re.match(r\"best_model_epoch_(\\d+)\\.pth\", f)\n",
    "    ]\n",
    "    if not best_model_files:\n",
    "        raise ValueError(f\"No best model files found in: {latest_run_dir}\")\n",
    "    \n",
    "    # Pick the file with the highest epoch number.\n",
    "    latest_model = max(\n",
    "        best_model_files,\n",
    "        key=lambda f: int(re.match(r\"best_model_epoch_(\\d+)\\.pth\", f).group(1))\n",
    "    )\n",
    "    \n",
    "    loaded_model = os.path.join(latest_run_dir, latest_model)\n",
    "    print(f'Loaded model: {loaded_model}')\n",
    "    return loaded_model"
   ]
  },
  {
   "cell_type": "code",
   "execution_count": 48,
   "metadata": {},
   "outputs": [
    {
     "name": "stdout",
     "output_type": "stream",
     "text": [
      "Loaded model: saved_models_3d/unity_dataset/raw/20250326_170224/best_model_epoch_10.pth\n"
     ]
    },
    {
     "name": "stderr",
     "output_type": "stream",
     "text": [
      "/tmp/ipykernel_16997/3108651232.py:31: FutureWarning:\n",
      "\n",
      "You are using `torch.load` with `weights_only=False` (the current default value), which uses the default pickle module implicitly. It is possible to construct malicious pickle data which will execute arbitrary code during unpickling (See https://github.com/pytorch/pytorch/blob/main/SECURITY.md#untrusted-models for more details). In a future release, the default value for `weights_only` will be flipped to `True`. This limits the functions that could be executed during unpickling. Arbitrary objects will no longer be allowed to be loaded via this mode unless they are explicitly allowlisted by the user via `torch.serialization.add_safe_globals`. We recommend you start setting `weights_only=True` for any use case where you don't have full control of the loaded file. Please open an issue on GitHub for any issues related to this experimental feature.\n",
      "\n"
     ]
    },
    {
     "data": {
      "application/vnd.plotly.v1+json": {
       "config": {
        "plotlyServerURL": "https://plot.ly"
       },
       "data": [
        {
         "marker": {
          "color": {
           "bdata": "AAAAPwAAAD8AAAA/AAAAPwAAAD8AAAA/AAAAPwAAAD8AAAA/AAAAPwAAAD8AAAA/AAAAPwAAAD8AAAA/AAAAPwAAAD8AAAA/AAAAPwAAAD8AAAA/AAAAPwAAAD8AAAA/AAAAPwAAAD8AAAA/AAAAPwAAAD8AAAA/AAAAPwAAAD8AAAA/AAAAPwAAAD8AAAA/AAAAPwAAAD8AAAA/AAAAPwAAAD8AAAA/AAAAPwAAAD8AAAA/AAAAPwAAAD8AAAA/AAAAPwAAAD8AAAA/AAAAPwAAAD8AAAA/AAAAPwAAAD8AAAA/AAAAPwAAAD8AAAA/AAAAPwAAAD8AAAA/AAAAPw==",
           "dtype": "f4"
          },
          "colorbar": {
           "title": {
            "text": "Z Value"
           }
          },
          "colorscale": [
           [
            0,
            "#440154"
           ],
           [
            0.1111111111111111,
            "#482878"
           ],
           [
            0.2222222222222222,
            "#3e4989"
           ],
           [
            0.3333333333333333,
            "#31688e"
           ],
           [
            0.4444444444444444,
            "#26828e"
           ],
           [
            0.5555555555555556,
            "#1f9e89"
           ],
           [
            0.6666666666666666,
            "#35b779"
           ],
           [
            0.7777777777777778,
            "#6ece58"
           ],
           [
            0.8888888888888888,
            "#b5de2b"
           ],
           [
            1,
            "#fde725"
           ]
          ],
          "opacity": 0.8,
          "size": 5
         },
         "mode": "markers",
         "name": "Ground Truth",
         "scene": "scene",
         "type": "scatter3d",
         "x": {
          "bdata": "AAAAAJfk2j8psU1AZpCKQLqRnUC6kZ1AZpCKQCmxTUCX5No/eqzqtJfk2r8psU3AZpCKwLqRncC6kZ3AZpCKwC2xTcCf5Nq/AAAAAD8drz+5jSRA2bNdQFwcfEBcHHxA2bNdQL2NJEBHHa8/Lr27tEcdr7+5jSTA2bNdwFwcfMBcHHzA2bNdwL2NJMBHHa+/AAAAAO9Vgz+Z1PY/4UYmQEQVPUBEFT1A4UYmQJnU9j/4VYM/4c2MtO9Vg7+Z1Pa/4UYmwEQVPcBEFT3A4UYmwJnU9r/4VYO/UnmBwM+Iwzw5Hi0/mVkMvdvh2r5wVRO+STgBwYVxZ8BersjAwjOzwA==",
          "dtype": "f4"
         },
         "y": {
          "bdata": "AACgwM9ZlsBbInXAAAAgwAxFXr8LRV4/AAAgQFsidUDPWZZAAACgQM9ZlkBgInVAAAAgQAZFXj8GRV6/AAAgwFsidcDPWZbAAACAwLCPcMB+G0TAAAAAwNfQMb/V0DE/AAAAQH4bRECwj3BAAACAQLCPcEB+G0RAAAAAQNDQMT/S0DG/AAAAwHobRMCwj3DAAABAwMZrNMCcFBPAAADAv6JcBb+gXAU/AADAP5wUE0DGazRAAABAQMZrNECcFBNAAADAP51cBT+eXAW/AADAv5wUE8DGazTAEayoQLhq38AjIuI+9/4yPwigXL8m3j+9hIiywNjlu0BtEu3AWEvMwA==",
          "dtype": "f4"
         },
         "z": {
          "bdata": "AAAAPwAAAD8AAAA/AAAAPwAAAD8AAAA/AAAAPwAAAD8AAAA/AAAAPwAAAD8AAAA/AAAAPwAAAD8AAAA/AAAAPwAAAD8AAAA/AAAAPwAAAD8AAAA/AAAAPwAAAD8AAAA/AAAAPwAAAD8AAAA/AAAAPwAAAD8AAAA/AAAAPwAAAD8AAAA/AAAAPwAAAD8AAAA/AAAAPwAAAD8AAAA/AAAAPwAAAD8AAAA/AAAAPwAAAD8AAAA/AAAAPwAAAD8AAAA/AAAAPwAAAD8AAAA/AAAAPwAAAD8AAAA/AAAAPwAAAD8AAAA/AAAAPwAAAD8AAAA/AAAAPwAAAD8AAAA/AAAAPw==",
          "dtype": "f4"
         }
        },
        {
         "marker": {
          "color": {
           "bdata": "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",
           "dtype": "f4"
          },
          "colorbar": {
           "title": {
            "text": "Z Value"
           }
          },
          "colorscale": [
           [
            0,
            "#440154"
           ],
           [
            0.1111111111111111,
            "#482878"
           ],
           [
            0.2222222222222222,
            "#3e4989"
           ],
           [
            0.3333333333333333,
            "#31688e"
           ],
           [
            0.4444444444444444,
            "#26828e"
           ],
           [
            0.5555555555555556,
            "#1f9e89"
           ],
           [
            0.6666666666666666,
            "#35b779"
           ],
           [
            0.7777777777777778,
            "#6ece58"
           ],
           [
            0.8888888888888888,
            "#b5de2b"
           ],
           [
            1,
            "#fde725"
           ]
          ],
          "opacity": 0.8,
          "size": 5
         },
         "mode": "markers",
         "name": "Predicted",
         "scene": "scene2",
         "type": "scatter3d",
         "x": {
          "bdata": "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",
          "dtype": "f4"
         },
         "y": {
          "bdata": "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",
          "dtype": "f4"
         },
         "z": {
          "bdata": "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",
          "dtype": "f4"
         }
        }
       ],
       "layout": {
        "annotations": [
         {
          "font": {
           "size": 16
          },
          "showarrow": false,
          "text": "Ground Truth",
          "x": 0.225,
          "xanchor": "center",
          "xref": "paper",
          "y": 1,
          "yanchor": "bottom",
          "yref": "paper"
         },
         {
          "font": {
           "size": 16
          },
          "showarrow": false,
          "text": "Predicted",
          "x": 0.775,
          "xanchor": "center",
          "xref": "paper",
          "y": 1,
          "yanchor": "bottom",
          "yref": "paper"
         }
        ],
        "scene": {
         "domain": {
          "x": [
           0,
           0.45
          ],
          "y": [
           0,
           1
          ]
         },
         "xaxis": {
          "title": {
           "text": "x1"
          }
         },
         "yaxis": {
          "title": {
           "text": "x2"
          }
         },
         "zaxis": {
          "title": {
           "text": "Output"
          }
         }
        },
        "scene2": {
         "domain": {
          "x": [
           0.55,
           1
          ],
          "y": [
           0,
           1
          ]
         },
         "xaxis": {
          "title": {
           "text": "x1"
          }
         },
         "yaxis": {
          "title": {
           "text": "x2"
          }
         },
         "zaxis": {
          "title": {
           "text": "Output"
          }
         }
        },
        "showlegend": false,
        "template": {
         "data": {
          "bar": [
           {
            "error_x": {
             "color": "#2a3f5f"
            },
            "error_y": {
             "color": "#2a3f5f"
            },
            "marker": {
             "line": {
              "color": "#E5ECF6",
              "width": 0.5
             },
             "pattern": {
              "fillmode": "overlay",
              "size": 10,
              "solidity": 0.2
             }
            },
            "type": "bar"
           }
          ],
          "barpolar": [
           {
            "marker": {
             "line": {
              "color": "#E5ECF6",
              "width": 0.5
             },
             "pattern": {
              "fillmode": "overlay",
              "size": 10,
              "solidity": 0.2
             }
            },
            "type": "barpolar"
           }
          ],
          "carpet": [
           {
            "aaxis": {
             "endlinecolor": "#2a3f5f",
             "gridcolor": "white",
             "linecolor": "white",
             "minorgridcolor": "white",
             "startlinecolor": "#2a3f5f"
            },
            "baxis": {
             "endlinecolor": "#2a3f5f",
             "gridcolor": "white",
             "linecolor": "white",
             "minorgridcolor": "white",
             "startlinecolor": "#2a3f5f"
            },
            "type": "carpet"
           }
          ],
          "choropleth": [
           {
            "colorbar": {
             "outlinewidth": 0,
             "ticks": ""
            },
            "type": "choropleth"
           }
          ],
          "contour": [
           {
            "colorbar": {
             "outlinewidth": 0,
             "ticks": ""
            },
            "colorscale": [
             [
              0,
              "#0d0887"
             ],
             [
              0.1111111111111111,
              "#46039f"
             ],
             [
              0.2222222222222222,
              "#7201a8"
             ],
             [
              0.3333333333333333,
              "#9c179e"
             ],
             [
              0.4444444444444444,
              "#bd3786"
             ],
             [
              0.5555555555555556,
              "#d8576b"
             ],
             [
              0.6666666666666666,
              "#ed7953"
             ],
             [
              0.7777777777777778,
              "#fb9f3a"
             ],
             [
              0.8888888888888888,
              "#fdca26"
             ],
             [
              1,
              "#f0f921"
             ]
            ],
            "type": "contour"
           }
          ],
          "contourcarpet": [
           {
            "colorbar": {
             "outlinewidth": 0,
             "ticks": ""
            },
            "type": "contourcarpet"
           }
          ],
          "heatmap": [
           {
            "colorbar": {
             "outlinewidth": 0,
             "ticks": ""
            },
            "colorscale": [
             [
              0,
              "#0d0887"
             ],
             [
              0.1111111111111111,
              "#46039f"
             ],
             [
              0.2222222222222222,
              "#7201a8"
             ],
             [
              0.3333333333333333,
              "#9c179e"
             ],
             [
              0.4444444444444444,
              "#bd3786"
             ],
             [
              0.5555555555555556,
              "#d8576b"
             ],
             [
              0.6666666666666666,
              "#ed7953"
             ],
             [
              0.7777777777777778,
              "#fb9f3a"
             ],
             [
              0.8888888888888888,
              "#fdca26"
             ],
             [
              1,
              "#f0f921"
             ]
            ],
            "type": "heatmap"
           }
          ],
          "histogram": [
           {
            "marker": {
             "pattern": {
              "fillmode": "overlay",
              "size": 10,
              "solidity": 0.2
             }
            },
            "type": "histogram"
           }
          ],
          "histogram2d": [
           {
            "colorbar": {
             "outlinewidth": 0,
             "ticks": ""
            },
            "colorscale": [
             [
              0,
              "#0d0887"
             ],
             [
              0.1111111111111111,
              "#46039f"
             ],
             [
              0.2222222222222222,
              "#7201a8"
             ],
             [
              0.3333333333333333,
              "#9c179e"
             ],
             [
              0.4444444444444444,
              "#bd3786"
             ],
             [
              0.5555555555555556,
              "#d8576b"
             ],
             [
              0.6666666666666666,
              "#ed7953"
             ],
             [
              0.7777777777777778,
              "#fb9f3a"
             ],
             [
              0.8888888888888888,
              "#fdca26"
             ],
             [
              1,
              "#f0f921"
             ]
            ],
            "type": "histogram2d"
           }
          ],
          "histogram2dcontour": [
           {
            "colorbar": {
             "outlinewidth": 0,
             "ticks": ""
            },
            "colorscale": [
             [
              0,
              "#0d0887"
             ],
             [
              0.1111111111111111,
              "#46039f"
             ],
             [
              0.2222222222222222,
              "#7201a8"
             ],
             [
              0.3333333333333333,
              "#9c179e"
             ],
             [
              0.4444444444444444,
              "#bd3786"
             ],
             [
              0.5555555555555556,
              "#d8576b"
             ],
             [
              0.6666666666666666,
              "#ed7953"
             ],
             [
              0.7777777777777778,
              "#fb9f3a"
             ],
             [
              0.8888888888888888,
              "#fdca26"
             ],
             [
              1,
              "#f0f921"
             ]
            ],
            "type": "histogram2dcontour"
           }
          ],
          "mesh3d": [
           {
            "colorbar": {
             "outlinewidth": 0,
             "ticks": ""
            },
            "type": "mesh3d"
           }
          ],
          "parcoords": [
           {
            "line": {
             "colorbar": {
              "outlinewidth": 0,
              "ticks": ""
             }
            },
            "type": "parcoords"
           }
          ],
          "pie": [
           {
            "automargin": true,
            "type": "pie"
           }
          ],
          "scatter": [
           {
            "fillpattern": {
             "fillmode": "overlay",
             "size": 10,
             "solidity": 0.2
            },
            "type": "scatter"
           }
          ],
          "scatter3d": [
           {
            "line": {
             "colorbar": {
              "outlinewidth": 0,
              "ticks": ""
             }
            },
            "marker": {
             "colorbar": {
              "outlinewidth": 0,
              "ticks": ""
             }
            },
            "type": "scatter3d"
           }
          ],
          "scattercarpet": [
           {
            "marker": {
             "colorbar": {
              "outlinewidth": 0,
              "ticks": ""
             }
            },
            "type": "scattercarpet"
           }
          ],
          "scattergeo": [
           {
            "marker": {
             "colorbar": {
              "outlinewidth": 0,
              "ticks": ""
             }
            },
            "type": "scattergeo"
           }
          ],
          "scattergl": [
           {
            "marker": {
             "colorbar": {
              "outlinewidth": 0,
              "ticks": ""
             }
            },
            "type": "scattergl"
           }
          ],
          "scattermap": [
           {
            "marker": {
             "colorbar": {
              "outlinewidth": 0,
              "ticks": ""
             }
            },
            "type": "scattermap"
           }
          ],
          "scattermapbox": [
           {
            "marker": {
             "colorbar": {
              "outlinewidth": 0,
              "ticks": ""
             }
            },
            "type": "scattermapbox"
           }
          ],
          "scatterpolar": [
           {
            "marker": {
             "colorbar": {
              "outlinewidth": 0,
              "ticks": ""
             }
            },
            "type": "scatterpolar"
           }
          ],
          "scatterpolargl": [
           {
            "marker": {
             "colorbar": {
              "outlinewidth": 0,
              "ticks": ""
             }
            },
            "type": "scatterpolargl"
           }
          ],
          "scatterternary": [
           {
            "marker": {
             "colorbar": {
              "outlinewidth": 0,
              "ticks": ""
             }
            },
            "type": "scatterternary"
           }
          ],
          "surface": [
           {
            "colorbar": {
             "outlinewidth": 0,
             "ticks": ""
            },
            "colorscale": [
             [
              0,
              "#0d0887"
             ],
             [
              0.1111111111111111,
              "#46039f"
             ],
             [
              0.2222222222222222,
              "#7201a8"
             ],
             [
              0.3333333333333333,
              "#9c179e"
             ],
             [
              0.4444444444444444,
              "#bd3786"
             ],
             [
              0.5555555555555556,
              "#d8576b"
             ],
             [
              0.6666666666666666,
              "#ed7953"
             ],
             [
              0.7777777777777778,
              "#fb9f3a"
             ],
             [
              0.8888888888888888,
              "#fdca26"
             ],
             [
              1,
              "#f0f921"
             ]
            ],
            "type": "surface"
           }
          ],
          "table": [
           {
            "cells": {
             "fill": {
              "color": "#EBF0F8"
             },
             "line": {
              "color": "white"
             }
            },
            "header": {
             "fill": {
              "color": "#C8D4E3"
             },
             "line": {
              "color": "white"
             }
            },
            "type": "table"
           }
          ]
         },
         "layout": {
          "annotationdefaults": {
           "arrowcolor": "#2a3f5f",
           "arrowhead": 0,
           "arrowwidth": 1
          },
          "autotypenumbers": "strict",
          "coloraxis": {
           "colorbar": {
            "outlinewidth": 0,
            "ticks": ""
           }
          },
          "colorscale": {
           "diverging": [
            [
             0,
             "#8e0152"
            ],
            [
             0.1,
             "#c51b7d"
            ],
            [
             0.2,
             "#de77ae"
            ],
            [
             0.3,
             "#f1b6da"
            ],
            [
             0.4,
             "#fde0ef"
            ],
            [
             0.5,
             "#f7f7f7"
            ],
            [
             0.6,
             "#e6f5d0"
            ],
            [
             0.7,
             "#b8e186"
            ],
            [
             0.8,
             "#7fbc41"
            ],
            [
             0.9,
             "#4d9221"
            ],
            [
             1,
             "#276419"
            ]
           ],
           "sequential": [
            [
             0,
             "#0d0887"
            ],
            [
             0.1111111111111111,
             "#46039f"
            ],
            [
             0.2222222222222222,
             "#7201a8"
            ],
            [
             0.3333333333333333,
             "#9c179e"
            ],
            [
             0.4444444444444444,
             "#bd3786"
            ],
            [
             0.5555555555555556,
             "#d8576b"
            ],
            [
             0.6666666666666666,
             "#ed7953"
            ],
            [
             0.7777777777777778,
             "#fb9f3a"
            ],
            [
             0.8888888888888888,
             "#fdca26"
            ],
            [
             1,
             "#f0f921"
            ]
           ],
           "sequentialminus": [
            [
             0,
             "#0d0887"
            ],
            [
             0.1111111111111111,
             "#46039f"
            ],
            [
             0.2222222222222222,
             "#7201a8"
            ],
            [
             0.3333333333333333,
             "#9c179e"
            ],
            [
             0.4444444444444444,
             "#bd3786"
            ],
            [
             0.5555555555555556,
             "#d8576b"
            ],
            [
             0.6666666666666666,
             "#ed7953"
            ],
            [
             0.7777777777777778,
             "#fb9f3a"
            ],
            [
             0.8888888888888888,
             "#fdca26"
            ],
            [
             1,
             "#f0f921"
            ]
           ]
          },
          "colorway": [
           "#636efa",
           "#EF553B",
           "#00cc96",
           "#ab63fa",
           "#FFA15A",
           "#19d3f3",
           "#FF6692",
           "#B6E880",
           "#FF97FF",
           "#FECB52"
          ],
          "font": {
           "color": "#2a3f5f"
          },
          "geo": {
           "bgcolor": "white",
           "lakecolor": "white",
           "landcolor": "#E5ECF6",
           "showlakes": true,
           "showland": true,
           "subunitcolor": "white"
          },
          "hoverlabel": {
           "align": "left"
          },
          "hovermode": "closest",
          "mapbox": {
           "style": "light"
          },
          "paper_bgcolor": "white",
          "plot_bgcolor": "#E5ECF6",
          "polar": {
           "angularaxis": {
            "gridcolor": "white",
            "linecolor": "white",
            "ticks": ""
           },
           "bgcolor": "#E5ECF6",
           "radialaxis": {
            "gridcolor": "white",
            "linecolor": "white",
            "ticks": ""
           }
          },
          "scene": {
           "xaxis": {
            "backgroundcolor": "#E5ECF6",
            "gridcolor": "white",
            "gridwidth": 2,
            "linecolor": "white",
            "showbackground": true,
            "ticks": "",
            "zerolinecolor": "white"
           },
           "yaxis": {
            "backgroundcolor": "#E5ECF6",
            "gridcolor": "white",
            "gridwidth": 2,
            "linecolor": "white",
            "showbackground": true,
            "ticks": "",
            "zerolinecolor": "white"
           },
           "zaxis": {
            "backgroundcolor": "#E5ECF6",
            "gridcolor": "white",
            "gridwidth": 2,
            "linecolor": "white",
            "showbackground": true,
            "ticks": "",
            "zerolinecolor": "white"
           }
          },
          "shapedefaults": {
           "line": {
            "color": "#2a3f5f"
           }
          },
          "ternary": {
           "aaxis": {
            "gridcolor": "white",
            "linecolor": "white",
            "ticks": ""
           },
           "baxis": {
            "gridcolor": "white",
            "linecolor": "white",
            "ticks": ""
           },
           "bgcolor": "#E5ECF6",
           "caxis": {
            "gridcolor": "white",
            "linecolor": "white",
            "ticks": ""
           }
          },
          "title": {
           "x": 0.05
          },
          "xaxis": {
           "automargin": true,
           "gridcolor": "white",
           "linecolor": "white",
           "ticks": "",
           "title": {
            "standoff": 15
           },
           "zerolinecolor": "white",
           "zerolinewidth": 2
          },
          "yaxis": {
           "automargin": true,
           "gridcolor": "white",
           "linecolor": "white",
           "ticks": "",
           "title": {
            "standoff": 15
           },
           "zerolinecolor": "white",
           "zerolinewidth": 2
          }
         }
        },
        "title": {
         "text": "Ground Truth vs Predicted"
        }
       }
      }
     },
     "metadata": {},
     "output_type": "display_data"
    },
    {
     "data": {
      "application/vnd.plotly.v1+json": {
       "config": {
        "plotlyServerURL": "https://plot.ly"
       },
       "data": [
        {
         "line": {
          "color": "blue",
          "width": 2
         },
         "mode": "lines",
         "name": "Predicted Output",
         "type": "scatter",
         "x": {
          "bdata": "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",
          "dtype": "f8"
         },
         "y": {
          "bdata": "KOEaP5KNGT++LBg/vcIWP8JTFT8P5BM/83cSP7gTET+Zuw8/uHMOPwZADT84JAw/riMLP2JBCj/Yfwk/B+EIP1FmCD+CEAg/wN8HP6TTBz806wc//yQIPyt/CD+P9wg/zYsJP2g5Cj/c/Qo/qNYLP2zBDD/muw0/9sMOP6fXDz8W9RA/gxoSPydGEz9CdhQ//KgVP2TcFj9gDhg/sDwZP+pkGj91hBs/k5gcP2+eHT8ekx4/snMfP0Y9ID8T7SA/eYAhPxT1IT/NSCI/6XkiPxaHIj90byI/pDIiP8jQIT+DSiE/AqEgP+rVHz9f6x4/7OMdP4bCHD90ihs/Rj8aP87kGD8Kfxc/GxIWPz6iFD+8MxM/5soRP/trED8vGw8/jtwNP/GzDD/kpAs/mLIKP9DfCT/PLgk/RqEIP0w4CD9g9Ac/YtUHP6LaBz/oAgg/kUwIP5q1CD+8Owk/htwJP3WVCj8IZAs/yEUMP2c4DT+wOQ4/mEcPPzdgED+5gRE/XKoSP2HYEz/8CRU/Sj0WP0hwFz/JoBg/eswZP9nwGj86Cxw/1BgdP8QWHj8fAh8/99cfP3SVID/dNyE/sbwhP60hIj/mZCI/0YQiP1CAIj/FViI/CggiP4KUIT8R/SA/IEMgP5NoHz++bx4/ZFsdP6AuHD/g7Bo/1pkZP2k5GD+qzxY/yGAVPwrxEz+6hBI/JCARP4bHDz8Bfw4/h0oNP9EtDD9CLAs/2UgKPxyGCT8K5gg/CGoIP+gSCD/a4Ac/dNMHP8bpBz9jIgg/cnsIP8/yCD8chgk/3DIKP4z2Cj+qzgs/1bgMP8uyDT9oug4/t80PP9jqED8CEBI/dzsTP3BrFD8cnhU/hdEWP5cDGD8VMhk/kFoaP3Z6Gz8Hjxw/cZUdP8qKHj8gbB8/kDYgP1PnID/EeyE/fvEhP2pGIj/IeCI/PociP+1wIj9uNSI/3dQhP+BPIT+XpyA/qN0fPy/0Hj+27R0/LM0cP9eVGz9ISxo/SPEYP9mLFz8YHxY/Q68UP6JAEz+F1xE/LngQP9EmDz985w0/Br4MPwKuCz8=",
          "dtype": "f4"
         }
        }
       ],
       "layout": {
        "showlegend": true,
        "template": {
         "data": {
          "bar": [
           {
            "error_x": {
             "color": "#2a3f5f"
            },
            "error_y": {
             "color": "#2a3f5f"
            },
            "marker": {
             "line": {
              "color": "#E5ECF6",
              "width": 0.5
             },
             "pattern": {
              "fillmode": "overlay",
              "size": 10,
              "solidity": 0.2
             }
            },
            "type": "bar"
           }
          ],
          "barpolar": [
           {
            "marker": {
             "line": {
              "color": "#E5ECF6",
              "width": 0.5
             },
             "pattern": {
              "fillmode": "overlay",
              "size": 10,
              "solidity": 0.2
             }
            },
            "type": "barpolar"
           }
          ],
          "carpet": [
           {
            "aaxis": {
             "endlinecolor": "#2a3f5f",
             "gridcolor": "white",
             "linecolor": "white",
             "minorgridcolor": "white",
             "startlinecolor": "#2a3f5f"
            },
            "baxis": {
             "endlinecolor": "#2a3f5f",
             "gridcolor": "white",
             "linecolor": "white",
             "minorgridcolor": "white",
             "startlinecolor": "#2a3f5f"
            },
            "type": "carpet"
           }
          ],
          "choropleth": [
           {
            "colorbar": {
             "outlinewidth": 0,
             "ticks": ""
            },
            "type": "choropleth"
           }
          ],
          "contour": [
           {
            "colorbar": {
             "outlinewidth": 0,
             "ticks": ""
            },
            "colorscale": [
             [
              0,
              "#0d0887"
             ],
             [
              0.1111111111111111,
              "#46039f"
             ],
             [
              0.2222222222222222,
              "#7201a8"
             ],
             [
              0.3333333333333333,
              "#9c179e"
             ],
             [
              0.4444444444444444,
              "#bd3786"
             ],
             [
              0.5555555555555556,
              "#d8576b"
             ],
             [
              0.6666666666666666,
              "#ed7953"
             ],
             [
              0.7777777777777778,
              "#fb9f3a"
             ],
             [
              0.8888888888888888,
              "#fdca26"
             ],
             [
              1,
              "#f0f921"
             ]
            ],
            "type": "contour"
           }
          ],
          "contourcarpet": [
           {
            "colorbar": {
             "outlinewidth": 0,
             "ticks": ""
            },
            "type": "contourcarpet"
           }
          ],
          "heatmap": [
           {
            "colorbar": {
             "outlinewidth": 0,
             "ticks": ""
            },
            "colorscale": [
             [
              0,
              "#0d0887"
             ],
             [
              0.1111111111111111,
              "#46039f"
             ],
             [
              0.2222222222222222,
              "#7201a8"
             ],
             [
              0.3333333333333333,
              "#9c179e"
             ],
             [
              0.4444444444444444,
              "#bd3786"
             ],
             [
              0.5555555555555556,
              "#d8576b"
             ],
             [
              0.6666666666666666,
              "#ed7953"
             ],
             [
              0.7777777777777778,
              "#fb9f3a"
             ],
             [
              0.8888888888888888,
              "#fdca26"
             ],
             [
              1,
              "#f0f921"
             ]
            ],
            "type": "heatmap"
           }
          ],
          "histogram": [
           {
            "marker": {
             "pattern": {
              "fillmode": "overlay",
              "size": 10,
              "solidity": 0.2
             }
            },
            "type": "histogram"
           }
          ],
          "histogram2d": [
           {
            "colorbar": {
             "outlinewidth": 0,
             "ticks": ""
            },
            "colorscale": [
             [
              0,
              "#0d0887"
             ],
             [
              0.1111111111111111,
              "#46039f"
             ],
             [
              0.2222222222222222,
              "#7201a8"
             ],
             [
              0.3333333333333333,
              "#9c179e"
             ],
             [
              0.4444444444444444,
              "#bd3786"
             ],
             [
              0.5555555555555556,
              "#d8576b"
             ],
             [
              0.6666666666666666,
              "#ed7953"
             ],
             [
              0.7777777777777778,
              "#fb9f3a"
             ],
             [
              0.8888888888888888,
              "#fdca26"
             ],
             [
              1,
              "#f0f921"
             ]
            ],
            "type": "histogram2d"
           }
          ],
          "histogram2dcontour": [
           {
            "colorbar": {
             "outlinewidth": 0,
             "ticks": ""
            },
            "colorscale": [
             [
              0,
              "#0d0887"
             ],
             [
              0.1111111111111111,
              "#46039f"
             ],
             [
              0.2222222222222222,
              "#7201a8"
             ],
             [
              0.3333333333333333,
              "#9c179e"
             ],
             [
              0.4444444444444444,
              "#bd3786"
             ],
             [
              0.5555555555555556,
              "#d8576b"
             ],
             [
              0.6666666666666666,
              "#ed7953"
             ],
             [
              0.7777777777777778,
              "#fb9f3a"
             ],
             [
              0.8888888888888888,
              "#fdca26"
             ],
             [
              1,
              "#f0f921"
             ]
            ],
            "type": "histogram2dcontour"
           }
          ],
          "mesh3d": [
           {
            "colorbar": {
             "outlinewidth": 0,
             "ticks": ""
            },
            "type": "mesh3d"
           }
          ],
          "parcoords": [
           {
            "line": {
             "colorbar": {
              "outlinewidth": 0,
              "ticks": ""
             }
            },
            "type": "parcoords"
           }
          ],
          "pie": [
           {
            "automargin": true,
            "type": "pie"
           }
          ],
          "scatter": [
           {
            "fillpattern": {
             "fillmode": "overlay",
             "size": 10,
             "solidity": 0.2
            },
            "type": "scatter"
           }
          ],
          "scatter3d": [
           {
            "line": {
             "colorbar": {
              "outlinewidth": 0,
              "ticks": ""
             }
            },
            "marker": {
             "colorbar": {
              "outlinewidth": 0,
              "ticks": ""
             }
            },
            "type": "scatter3d"
           }
          ],
          "scattercarpet": [
           {
            "marker": {
             "colorbar": {
              "outlinewidth": 0,
              "ticks": ""
             }
            },
            "type": "scattercarpet"
           }
          ],
          "scattergeo": [
           {
            "marker": {
             "colorbar": {
              "outlinewidth": 0,
              "ticks": ""
             }
            },
            "type": "scattergeo"
           }
          ],
          "scattergl": [
           {
            "marker": {
             "colorbar": {
              "outlinewidth": 0,
              "ticks": ""
             }
            },
            "type": "scattergl"
           }
          ],
          "scattermap": [
           {
            "marker": {
             "colorbar": {
              "outlinewidth": 0,
              "ticks": ""
             }
            },
            "type": "scattermap"
           }
          ],
          "scattermapbox": [
           {
            "marker": {
             "colorbar": {
              "outlinewidth": 0,
              "ticks": ""
             }
            },
            "type": "scattermapbox"
           }
          ],
          "scatterpolar": [
           {
            "marker": {
             "colorbar": {
              "outlinewidth": 0,
              "ticks": ""
             }
            },
            "type": "scatterpolar"
           }
          ],
          "scatterpolargl": [
           {
            "marker": {
             "colorbar": {
              "outlinewidth": 0,
              "ticks": ""
             }
            },
            "type": "scatterpolargl"
           }
          ],
          "scatterternary": [
           {
            "marker": {
             "colorbar": {
              "outlinewidth": 0,
              "ticks": ""
             }
            },
            "type": "scatterternary"
           }
          ],
          "surface": [
           {
            "colorbar": {
             "outlinewidth": 0,
             "ticks": ""
            },
            "colorscale": [
             [
              0,
              "#0d0887"
             ],
             [
              0.1111111111111111,
              "#46039f"
             ],
             [
              0.2222222222222222,
              "#7201a8"
             ],
             [
              0.3333333333333333,
              "#9c179e"
             ],
             [
              0.4444444444444444,
              "#bd3786"
             ],
             [
              0.5555555555555556,
              "#d8576b"
             ],
             [
              0.6666666666666666,
              "#ed7953"
             ],
             [
              0.7777777777777778,
              "#fb9f3a"
             ],
             [
              0.8888888888888888,
              "#fdca26"
             ],
             [
              1,
              "#f0f921"
             ]
            ],
            "type": "surface"
           }
          ],
          "table": [
           {
            "cells": {
             "fill": {
              "color": "#EBF0F8"
             },
             "line": {
              "color": "white"
             }
            },
            "header": {
             "fill": {
              "color": "#C8D4E3"
             },
             "line": {
              "color": "white"
             }
            },
            "type": "table"
           }
          ]
         },
         "layout": {
          "annotationdefaults": {
           "arrowcolor": "#2a3f5f",
           "arrowhead": 0,
           "arrowwidth": 1
          },
          "autotypenumbers": "strict",
          "coloraxis": {
           "colorbar": {
            "outlinewidth": 0,
            "ticks": ""
           }
          },
          "colorscale": {
           "diverging": [
            [
             0,
             "#8e0152"
            ],
            [
             0.1,
             "#c51b7d"
            ],
            [
             0.2,
             "#de77ae"
            ],
            [
             0.3,
             "#f1b6da"
            ],
            [
             0.4,
             "#fde0ef"
            ],
            [
             0.5,
             "#f7f7f7"
            ],
            [
             0.6,
             "#e6f5d0"
            ],
            [
             0.7,
             "#b8e186"
            ],
            [
             0.8,
             "#7fbc41"
            ],
            [
             0.9,
             "#4d9221"
            ],
            [
             1,
             "#276419"
            ]
           ],
           "sequential": [
            [
             0,
             "#0d0887"
            ],
            [
             0.1111111111111111,
             "#46039f"
            ],
            [
             0.2222222222222222,
             "#7201a8"
            ],
            [
             0.3333333333333333,
             "#9c179e"
            ],
            [
             0.4444444444444444,
             "#bd3786"
            ],
            [
             0.5555555555555556,
             "#d8576b"
            ],
            [
             0.6666666666666666,
             "#ed7953"
            ],
            [
             0.7777777777777778,
             "#fb9f3a"
            ],
            [
             0.8888888888888888,
             "#fdca26"
            ],
            [
             1,
             "#f0f921"
            ]
           ],
           "sequentialminus": [
            [
             0,
             "#0d0887"
            ],
            [
             0.1111111111111111,
             "#46039f"
            ],
            [
             0.2222222222222222,
             "#7201a8"
            ],
            [
             0.3333333333333333,
             "#9c179e"
            ],
            [
             0.4444444444444444,
             "#bd3786"
            ],
            [
             0.5555555555555556,
             "#d8576b"
            ],
            [
             0.6666666666666666,
             "#ed7953"
            ],
            [
             0.7777777777777778,
             "#fb9f3a"
            ],
            [
             0.8888888888888888,
             "#fdca26"
            ],
            [
             1,
             "#f0f921"
            ]
           ]
          },
          "colorway": [
           "#636efa",
           "#EF553B",
           "#00cc96",
           "#ab63fa",
           "#FFA15A",
           "#19d3f3",
           "#FF6692",
           "#B6E880",
           "#FF97FF",
           "#FECB52"
          ],
          "font": {
           "color": "#2a3f5f"
          },
          "geo": {
           "bgcolor": "white",
           "lakecolor": "white",
           "landcolor": "#E5ECF6",
           "showlakes": true,
           "showland": true,
           "subunitcolor": "white"
          },
          "hoverlabel": {
           "align": "left"
          },
          "hovermode": "closest",
          "mapbox": {
           "style": "light"
          },
          "paper_bgcolor": "white",
          "plot_bgcolor": "#E5ECF6",
          "polar": {
           "angularaxis": {
            "gridcolor": "white",
            "linecolor": "white",
            "ticks": ""
           },
           "bgcolor": "#E5ECF6",
           "radialaxis": {
            "gridcolor": "white",
            "linecolor": "white",
            "ticks": ""
           }
          },
          "scene": {
           "xaxis": {
            "backgroundcolor": "#E5ECF6",
            "gridcolor": "white",
            "gridwidth": 2,
            "linecolor": "white",
            "showbackground": true,
            "ticks": "",
            "zerolinecolor": "white"
           },
           "yaxis": {
            "backgroundcolor": "#E5ECF6",
            "gridcolor": "white",
            "gridwidth": 2,
            "linecolor": "white",
            "showbackground": true,
            "ticks": "",
            "zerolinecolor": "white"
           },
           "zaxis": {
            "backgroundcolor": "#E5ECF6",
            "gridcolor": "white",
            "gridwidth": 2,
            "linecolor": "white",
            "showbackground": true,
            "ticks": "",
            "zerolinecolor": "white"
           }
          },
          "shapedefaults": {
           "line": {
            "color": "#2a3f5f"
           }
          },
          "ternary": {
           "aaxis": {
            "gridcolor": "white",
            "linecolor": "white",
            "ticks": ""
           },
           "baxis": {
            "gridcolor": "white",
            "linecolor": "white",
            "ticks": ""
           },
           "bgcolor": "#E5ECF6",
           "caxis": {
            "gridcolor": "white",
            "linecolor": "white",
            "ticks": ""
           }
          },
          "title": {
           "x": 0.05
          },
          "xaxis": {
           "automargin": true,
           "gridcolor": "white",
           "linecolor": "white",
           "ticks": "",
           "title": {
            "standoff": 15
           },
           "zerolinecolor": "white",
           "zerolinewidth": 2
          },
          "yaxis": {
           "automargin": true,
           "gridcolor": "white",
           "linecolor": "white",
           "ticks": "",
           "title": {
            "standoff": 15
           },
           "zerolinecolor": "white",
           "zerolinewidth": 2
          }
         }
        },
        "title": {
         "text": "Output Inference with Fixed (x, y) = (-0.10, -0.30) and Varying Yaw"
        },
        "xaxis": {
         "title": {
          "text": "Yaw Angle (radians)"
         }
        },
        "yaxis": {
         "title": {
          "text": "Output"
         }
        }
       }
      }
     },
     "metadata": {},
     "output_type": "display_data"
    }
   ],
   "source": [
    "# Create subplots\n",
    "fig = make_subplots(\n",
    "    rows=1, cols=2,  # 1 row, 2 columns\n",
    "    specs=[[{'type': 'scatter3d'}, {'type': 'scatter3d'}]],  # Both subplots are 3D scatter plots\n",
    "    subplot_titles=(\"Ground Truth\", \"Predicted\")  # Titles for each subplot\n",
    ")\n",
    "\n",
    "X_nn, _ = generate_fake_dataset(\n",
    "    samples_xy=80, \n",
    "    samples_yaw=1, \n",
    "    x_dimension=3,\n",
    "    use_fov=False,\n",
    "    x_low=-8,        # Drone X ranges from -10 to 10\n",
    "    x_high=8,\n",
    "    y_low=-8,         # Drone Y ranges from -5 to 5\n",
    "    y_high=8,\n",
    "    tree_low=0,     # Tree ranges from -15 to 15\n",
    "    tree_high=0\n",
    ")\n",
    "\n",
    "fig.add_trace(go.Scatter3d(z=Y.flatten(), x=X[:,0], y=X[:,1], name='Ground Truth',mode='markers',marker=dict(\n",
    "        color=Y.flatten(),  # Color based on z values\n",
    "        colorscale='Viridis',     # Use Viridis color map\n",
    "        colorbar=dict(title='Z Value'),  # Add color bar\n",
    "        size=5,                   # Marker size\n",
    "        opacity=0.8               # Marker opacity\n",
    "    ),), row=1, col=1)  # Add to the first subplot\n",
    "\n",
    "\n",
    "model = MultiLayerPerceptron(input_dim=nn_input_dim)\n",
    "model.load_state_dict(torch.load(get_latest_best_model(nn_input_dim, False)))\n",
    "model.eval()\n",
    "\n",
    "X = X[:,:3]\n",
    "# Model prediction\n",
    "with torch.no_grad():\n",
    "    y_test = model(X_nn[:,:3]).detach().numpy()\n",
    "\n",
    "# Add predicted trace to the second subplot\n",
    "fig.add_trace(go.Scatter3d(z=y_test.flatten(),x= X_nn[:,0],y= X_nn[:,1],name='Predicted',mode='markers',marker=dict(\n",
    "        color=y_test.flatten(),  # Color based on z values\n",
    "        colorscale='Viridis',     # Use Viridis color map\n",
    "        colorbar=dict(title='Z Value'),  # Add color bar\n",
    "        size=5,                   # Marker size\n",
    "        opacity=0.8               # Marker opacity\n",
    "    )\n",
    "), row=1, col=2)  # Add to the second subplot\n",
    "\n",
    "# Update layout\n",
    "fig.update_layout(\n",
    "    title_text=\"Ground Truth vs Predicted\",  # Main title\n",
    "    scene=dict(  # Update the first subplot's scene\n",
    "        xaxis_title=\"x1\",\n",
    "        yaxis_title=\"x2\",\n",
    "        zaxis_title=\"Output\"\n",
    "    ),\n",
    "    scene2=dict(  # Update the second subplot's scene\n",
    "        xaxis_title=\"x1\",\n",
    "        yaxis_title=\"x2\",\n",
    "        zaxis_title=\"Output\"\n",
    "    ),\n",
    "    showlegend=False  # Hide legend for clarity\n",
    ")\n",
    "\n",
    "fig.show()\n",
    "fig.write_html('nn_surrogate_train_test.html')\n",
    "\n",
    "\n",
    "# Find the index of the maximum value in y_test\n",
    "max_index = np.argmax(y_test)\n",
    "x_best = X_nn[max_index, 0]\n",
    "y_best = X_nn[max_index, 1]\n",
    "\n",
    "# Vary the third input (yaw angle) between 0 and 2π\n",
    "yaw_values = np.linspace(-10, 10, 200)\n",
    "\n",
    "# Create a new input array with x_best and y_best fixed, and yaw_values varying\n",
    "X_new = np.column_stack([\n",
    "    np.full_like(yaw_values, x_best),\n",
    "    np.full_like(yaw_values, y_best),\n",
    "    yaw_values\n",
    "])\n",
    "\n",
    "# Convert to tensor for model inference\n",
    "X_new_tensor = torch.tensor(X_new, dtype=torch.float32)\n",
    "\n",
    "# Model prediction for the new input\n",
    "with torch.no_grad():\n",
    "    y_new = model(X_new_tensor).detach().numpy()\n",
    "\n",
    "# Create a new plot\n",
    "fig_new = go.Figure()\n",
    "\n",
    "# Add the trace for the new predictions\n",
    "fig_new.add_trace(go.Scatter(\n",
    "    x=np.rad2deg(yaw_values),\n",
    "    y=y_new.flatten(),\n",
    "    mode='lines',\n",
    "    name='Predicted Output',\n",
    "    line=dict(color='blue', width=2)\n",
    "))\n",
    "\n",
    "# Update layout\n",
    "fig_new.update_layout(\n",
    "    title_text=f\"Output Inference with Fixed (x, y) = ({x_best:.2f}, {y_best:.2f}) and Varying Yaw\",\n",
    "    xaxis_title=\"Yaw Angle (radians)\",\n",
    "    yaxis_title=\"Output\",\n",
    "    showlegend=True\n",
    ")\n",
    "\n",
    "# Show the plot\n",
    "fig_new.show()\n",
    "\n",
    "# Save the plot as HTML\n",
    "fig_new.write_html('nn_surrogate_varying_yaw.html')"
   ]
  },
  {
   "cell_type": "markdown",
   "metadata": {},
   "source": [
    "## Define the working environment\n",
    "\n",
    "The problem definition is as follows:\n",
    "\n",
    "$x$ state of the robot defined by the position of the drone and its velocity [x, y ,z, vx, vy, vz]\n",
    "\n",
    "$f(x, u)$ state transition function for the drone\n",
    "\n",
    "$u$ acceleration commands to the drone [ax, ay, az]\n",
    "\n",
    "$t \\in T$ tree positions for the $T$ trees [[tx_1, ty_2], ... , [tx_T, ty_T]]\n",
    "\n",
    "$\\lambda$ belief for the trees maturity confidence [\\lambda_1, ..., \\lambda_T] (values from 0 to 1). For practicity, it can be seen as part of $x$\n",
    "\n",
    "$z$ observation vector for the tree maturity confidence [z_1, ..., z_T] (values from 0 to 1)\n",
    "\n",
    "$g(\\Delta x)$ observation surrogate. It is applied to every tree.\n",
    "\n",
    "$b(\\lambda, z)$ bayesian update to the previous belief.\n",
    "\n",
    "$H(\\lambda)$ entropy function for the belief defined (for the case of binary distribution) as: $-\\lambda \\log{\\lambda} - (1-\\lambda) \\log(1-\\lambda)$.\n",
    "\n",
    "$J(\\lambda)$ the cost function of the MPC defined as: $\\sum_{1, ..., n} \\delta_1 H(\\lambda_i) * \\delta_2 \\Delta x_i^2 + \\delta_3 \\|u\\|$. They correspond to trying to reduce the entropy for each of the trees using $\\Delta x_i^2$ to guide the planner when there is no observation, and reduce the control inputs.\n",
    "\n",
    "The steps of the system are as follows:\n",
    "1. Load learned $g()$ which works for one tree.\n",
    "2. Initialize $x$ in a $x_0$ position, $\\lambda$ with $0.5$ values for each tree, and $t$ as known.\n",
    "3. Run the NMPC from $x$ for $N$ iterations. In each step:\n",
    "  - Compute $\\Delta x$ for each tree with the new drone $x$.\n",
    "  - Get estimation from NN for each tree: $z = g(\\Delta x)$.\n",
    "  - Fuse the estimation in $\\lambda$ for each tree: $\\lambda_{k} = b(\\lambda_{k-1}, z)$\n",
    "4. Apply the solution from the MPC.\n",
    "5. Get a real observation.\n",
    "6. Integrate the real observation into $\\lambda$.\n",
    "7. Go back to step 3."
   ]
  },
  {
   "cell_type": "code",
   "execution_count": 49,
   "metadata": {},
   "outputs": [
    {
     "name": "stdout",
     "output_type": "stream",
     "text": [
      "2.1374262888906864e-05\n"
     ]
    },
    {
     "data": {
      "image/png": "[encoded data removed]",
      "text/plain": [
       "<Figure size 800x600 with 1 Axes>"
      ]
     },
     "metadata": {},
     "output_type": "display_data"
    }
   ],
   "source": [
    "import numpy as np\n",
    "import matplotlib.pyplot as plt\n",
    "import casadi as ca\n",
    "# Define the entropy function\n",
    "def entropy(lambda_val):\n",
    "    return (-(lambda_val- 1e-6) * ca.log10(lambda_val -1e-6) - (1 - lambda_val  + 1e-6) * ca.log10(1 - lambda_val  + 1e-6))/ca.log10(2)\n",
    "\n",
    "# Generate lambda values (avoid 0 and 1 to prevent log(0) errors)\n",
    "x = np.linspace(0.0, 1.00, 100)\n",
    "output = []\n",
    "# Compute entropy values\n",
    "for i  in range(x.shape[0]):\n",
    "    output.append(entropy(x[i]))\n",
    "\n",
    "print(output[-1])\n",
    "# Plot the entropy function\n",
    "plt.figure(figsize=(8, 6))\n",
    "plt.plot(x, output, label=\"Entropy\", color=\"blue\")\n",
    "plt.title(\"Entropy Function\")\n",
    "plt.xlabel(\"Lambda (λ)\")\n",
    "plt.ylabel(\"Entropy\")\n",
    "plt.grid(True)\n",
    "plt.legend()\n",
    "plt.show()"
   ]
  },
  {
   "cell_type": "code",
   "execution_count": 50,
   "metadata": {},
   "outputs": [],
   "source": [
    "import numpy as npc\n",
    "import casadi as ca\n",
    "import l4casadi as l4c\n",
    "import time\n",
    "import torch  # Assuming you use PyTorch for your neural network\n",
    "\n",
    "# =============================================================================\n",
    "# Global Constants\n",
    "# =============================================================================\n",
    "T = 1.0\n",
    "N = 4\n",
    "dt = T / N\n",
    "nx = 3  # (x, y, theta). The full state is 2*nx = 6: [x, y, theta, vx, vy, omega]\n",
    "\n",
    "# =============================================================================\n",
    "# Utility Functions\n",
    "# =============================================================================\n",
    "def generate_tree_positions(grid_size, spacing):\n",
    "    \"\"\"\n",
    "    Generate tree positions on a grid and add a small offset.\n",
    "    \"\"\"\n",
    "    x_positions = np.arange(0, grid_size[0] * spacing, spacing)\n",
    "    y_positions = np.arange(0, grid_size[1] * spacing, spacing)\n",
    "    xv, yv = np.meshgrid(x_positions, y_positions)\n",
    "    tree_positions = np.vstack([xv.ravel(), yv.ravel()]).T\n",
    "    return tree_positions + 0.1\n",
    "\n",
    "def get_domain(tree_positions):\n",
    "    \"\"\"\n",
    "    Returns the bounding box (lower and upper bounds) of the tree positions.\n",
    "    \"\"\"\n",
    "    x_min = np.min(tree_positions[:, 0])\n",
    "    x_max = np.max(tree_positions[:, 0])\n",
    "    y_min = np.min(tree_positions[:, 1])\n",
    "    y_max = np.max(tree_positions[:, 1])\n",
    "    return [x_min, y_min], [x_max, y_max]\n",
    "\n",
    "def kin_model():\n",
    "    \"\"\"\n",
    "    Kinematic model: state X = [x, y, theta, vx, vy, omega] and control U = [ax, ay, angular_acc].\n",
    "    Uses simple Euler integration.\n",
    "    \"\"\"\n",
    "    X = ca.MX.sym('X', nx * 2)  # 6 states\n",
    "    U = ca.MX.sym('U', nx)      # 3 controls\n",
    "    X_next = X + dt * ca.vertcat(X[nx:], U)\n",
    "    return ca.Function('F', [X, U], [X_next])\n",
    "\n",
    "def bayes(lambda_prev, z):\n",
    "    \"\"\"\n",
    "    Bayesian update for belief:\n",
    "       lambda_next = (lambda_prev * z) / (lambda_prev * z + (1 - lambda_prev) * (1 - z))\n",
    "    An epsilon term is added to avoid division by zero.\n",
    "    \"\"\"\n",
    "    prod = lambda_prev * z\n",
    "    return prod / (prod + (1 - lambda_prev) * (1 - z))\n",
    "\n",
    "def entropy(p):\n",
    "    \"\"\"\n",
    "    Compute the binary entropy of a probability p.\n",
    "    Values are clipped to avoid log(0).\n",
    "    \"\"\"\n",
    "    p = ca.fmin(p, 1 - 1e-6)\n",
    "    return (-p * ca.log10(p) - (1 - p) * ca.log10(1 - p))/ca.log10(2)\n",
    "\n",
    "\n",
    "# =============================================================================\n",
    "# Modified MPC Optimization Function\n",
    "# =============================================================================\n",
    "def mpc_opt(g_nn, trees, lb, ub, x0, lambda_vals, entropy_horizon, steps=10):\n",
    "    \"\"\"\n",
    "    Set up and solve the MPC optimization problem with the following modifications:\n",
    "      - The robot moves according to the kinematic model.\n",
    "      - Only positions and translational velocities are constrained (orientation is free).\n",
    "      - A collision-avoidance (inequality) constraint ensures the robot stays a safe\n",
    "        distance from each tree.\n",
    "      - The objective now includes an entropy term that rewards the reduction in belief \n",
    "        uncertainty between the initial and final steps.\n",
    "      - **Modification:** If the predicted (expected) entropy reduction over the horizon is \n",
    "        lower than 1.0, then an extra attraction cost is added to pull the robot toward the \n",
    "        nearest tree with a belief (Bayes value) lower than 0.9.\n",
    "    \"\"\"\n",
    "    # Dimensions: state is 6-D; control is 3-D.\n",
    "    n_state = nx * 2   # 6\n",
    "    n_control = nx     # 3\n",
    "\n",
    "    opti = ca.Opti()\n",
    "    F_ = kin_model()  # Kinematic model function\n",
    "\n",
    "    # Decision variables:\n",
    "    X = opti.variable(n_state, steps + 1)\n",
    "    U = opti.variable(n_control, steps)\n",
    "\n",
    "    # Parameter vector: initial state and tree beliefs\n",
    "    P0 = opti.parameter(n_state + trees.shape[0]*2)\n",
    "    opti.subject_to(X[:, 0] == P0[: n_state])\n",
    "    # In this formulation, we use the current belief as a parameter (constant over the horizon)\n",
    "    lambda_param = P0[n_state:-trees.shape[0]]\n",
    "    lambda_horizon_param = P0[n_state + trees.shape[0]:]\n",
    "    # Convert tree positions to a CasADi DM for convenience.\n",
    "    trees_dm = ca.DM(trees)\n",
    "    num_trees = trees_dm.size1()\n",
    "\n",
    "    # ---------------------------\n",
    "    # Weights and Safety Parameters (tuned)\n",
    "    w_control    = 2.0      # Increased to smooth translational movements\n",
    "    w_ang        = 0.5      # Reduced to allow sharper turns when needed\n",
    "    w_entropy    = 1000.0    # Reduced to balance exploration vs. control effort\n",
    "    w_attr       = 0.0    # Increased to strengthen attraction to uncertain trees\n",
    "    safe_distance = 1.25      # Increased for safer obstacle avoidance\n",
    "    d_threshold   = 5.0      # Reduced to activate attraction earlier\n",
    "    penalty_scale = 1e4      # Reduced from 1e6 to avoid numerical stiffness\n",
    "\n",
    "    # Initialize the objective.\n",
    "    obj = 0\n",
    "    extra_costs = 0\n",
    "    # Create a list to hold the evolution of the belief.\n",
    "    # lambda_evol[0] is the initial belief.\n",
    "    lambda_evol = [lambda_param]\n",
    "\n",
    "    for i in range(steps):\n",
    "        # --- Constrain the State and Input ---\n",
    "        opti.subject_to(opti.bounded(lb[0] - 3.0, X[0, i + 1], ub[0] + 3.0))\n",
    "        opti.subject_to(opti.bounded(lb[1] - 3.0, X[1, i + 1], ub[1] + 3.0))\n",
    "        opti.subject_to(opti.bounded(-10.0, X[2, i + 1], 10.0))\n",
    "        opti.subject_to(opti.bounded(-10.0, X[3, i + 1], 10.0))\n",
    "        opti.subject_to(opti.bounded(-10.0, X[4, i + 1], 10.0))\n",
    "        opti.subject_to(opti.bounded(-20, U[0:2, i], 20))\n",
    "        opti.subject_to(opti.bounded(-3.14, U[-1, i], 3.14))\n",
    "        \n",
    "        # --- Dynamics Constraint ---\n",
    "        opti.subject_to(X[:, i + 1] == F_(X[:, i], U[:, i]))\n",
    "\n",
    "        # --- Obstacle Avoidance Constraint ---\n",
    "        # Ensure the robot remains at least safe_distance away from every tree.\n",
    "        delta = X[0:2, i+1] - trees_dm.T  # (2 x num_trees)\n",
    "        # Squared distances for each tree\n",
    "        sq_dists = ca.diag(ca.mtimes(delta.T, delta))\n",
    "        # The closest tree must be at least safe_distance away.\n",
    "        opti.subject_to(ca.mmin(sq_dists) >= safe_distance**2)\n",
    "        \n",
    "        # --- Neural Network Prediction & Bayesian Update ---\n",
    "        relative_pos_bayes = ca.repmat(X[0:2, i+1].T, num_trees, 1) - trees_dm\n",
    "        heading_bayes = ca.repmat(X[2, i+1], num_trees, 1)\n",
    "        nn_input = ca.horzcat(relative_pos_bayes, heading_bayes)\n",
    "        g_out = g_nn(nn_input)\n",
    "        z_k = (sq_dists > 100) * 0.5 + (sq_dists <= 100) *  ca.fmax(g_out, 0.5)  # Ensure a minimum confidence level\n",
    "        # Update the belief using the Bayesian update rule.\n",
    "        lambda_next = bayes(lambda_evol[-1], z_k)\n",
    "        lambda_evol.append(lambda_next)\n",
    "        # Reward entropy reduction along the horizon.\n",
    "        obj += w_entropy *( ca.sum1( (lambda_evol[0] < 0.95) * (entropy(lambda_next)))) #- entropy(lambda_evol[0])))) * ca.exp(-i/N)\n",
    "        \n",
    "        # --- Control Effort Regularization ---\n",
    "        obj += w_control * ca.sumsqr(U[0:2, i]) + w_ang * ca.sumsqr(U[2, i])\n",
    "\n",
    "        pos_i = X[0:2, i + 1]   # current (x, y)\n",
    "        theta_i = X[2, i + 1]   # current orientation\n",
    "        #theta_i_wrapped = ca.atan2(ca.sin(theta_i), ca.cos(theta_i))  # Wrap to [-π, π)\n",
    "        cost_list = []\n",
    "        \n",
    "        for j in range(num_trees):\n",
    "            tree_j = trees_dm[j, :].T\n",
    "            rel_ij = tree_j - pos_i          # vector from robot to tree j\n",
    "            d_ij = ca.norm_2(rel_ij)           # Euclidean distance\n",
    "            theta_des = ca.atan2(rel_ij[1], rel_ij[0])  # desired heading angle toward tree j\n",
    "            orient_error =( 1 - ca.cos(theta_i - theta_des)) **2 # misalignment cost\n",
    "            \n",
    "            # Penalty: high if the belief for this tree is high (i.e., tree is \"certain\").\n",
    "            penalty = penalty_scale * (0.5 + 0.5 * ca.tanh(100 * (lambda_horizon_param[j] - 0.95)))\n",
    "            \n",
    "            # Attraction multiplier: activates more when farther than d_threshold.\n",
    "            attraction_multiplier =  0.5 * (1 + ca.tanh(10 * (d_ij - d_threshold)))\n",
    "\n",
    "            cost_j =  attraction_multiplier + orient_error + penalty # d_ij + penalty\n",
    "\n",
    "            cost_list.append(cost_j)\n",
    "        cost_vec = ca.vertcat(*cost_list)\n",
    "        # Use the minimum cost among trees.\n",
    "        extra_costs += ca.mmin(cost_vec)\n",
    "        \n",
    "    # --- Extra Attraction if Entropy Reduction is Insufficient ---\n",
    "    # Compute the overall predicted entropy reduction over the horizon.\n",
    "    expected_reduction = ca.sum1(entropy(lambda_evol[0])) - ca.sum1(entropy(lambda_horizon_param))\n",
    "    # If the reduction is less than 1.0, the \"deficit\" is positive.\n",
    "    entropy_deficit =  ca.logsumexp(ca.vcat([(1.0- expected_reduction), 0.0 ]))\n",
    "    # For each tree, we use a smooth indicator that is near 1 if the belief is below 0.9,\n",
    "    # and near 0 if the belief is high. Then we add a large penalty for trees that are not sufficiently uncertain.\n",
    "\n",
    "    # Add extra attraction cost weighted by the entropy deficit.\n",
    "    obj +=  entropy_deficit * w_attr * extra_costs *( extra_costs < 1e4)\n",
    "\n",
    "    # Set the overall objective.\n",
    "    opti.minimize(obj)\n",
    "\n",
    "    # ---------------------------\n",
    "    # Solver Options and Problem Solve\n",
    "    # ---------------------------\n",
    "    options = {\n",
    "        \"ipopt\": {\n",
    "            \"tol\": 1e-3,\n",
    "            \"warm_start_init_point\": \"yes\",\n",
    "            \"hessian_approximation\": \"limited-memory\",\n",
    "            \"print_level\": 0,\n",
    "            \"sb\": \"no\",\n",
    "            \"mu_strategy\": \"monotone\",\n",
    "            \"max_iter\": 3000\n",
    "        }\n",
    "    }\n",
    "    opti.solver(\"ipopt\", options)\n",
    "\n",
    "    # Set the parameter values.\n",
    "    opti.set_value(P0, ca.vertcat(x0, lambda_vals, entropy_horizon))\n",
    "    sol = opti.solve()\n",
    "\n",
    "    # Create the MPC step function for warm starting.\n",
    "    inputs = [P0, opti.x, opti.lam_g]\n",
    "    outputs = [U[:, 0], X, opti.x, opti.lam_g]\n",
    "    mpc_step = opti.to_function(\"mpc_step\", inputs, outputs)\n",
    "\n",
    "    return (mpc_step,\n",
    "            ca.DM(sol.value(U[:, 0])),\n",
    "            ca.DM(sol.value(X)),\n",
    "            ca.DM(sol.value(opti.x)),\n",
    "            ca.DM(sol.value(opti.lam_g)))\n",
    "\n",
    "\n",
    "\n",
    "# =============================================================================\n",
    "# Main Loop\n",
    "# =============================================================================\n",
    "def main():\n",
    "    # --- Generate Environment ---\n",
    "    trees = generate_tree_positions([1, 1], 5.5)\n",
    "    lb, ub = get_domain(trees)\n",
    "    # Initial belief for each tree (e.g., 0.5 = uncertain)\n",
    "    lambda_k = ca.DM.ones(len(trees)) * 0.5\n",
    "    lambda_h = ca.DM.ones(len(trees))\n",
    "    mpc_horizon = N\n",
    "    print(ub,lb)\n",
    "    # --- Load Neural Network ---\n",
    "    # (Even though the NN is not used inside the MPC in this version,\n",
    "    #  we assume it is used in the overall system to update beliefs.)\n",
    "    nn_input_dim = 3  # relative position (2) + heading (1)\n",
    "    model = MultiLayerPerceptron(input_dim=nn_input_dim)\n",
    "    model.load_state_dict(torch.load(get_latest_best_model(nn_input_dim)))\n",
    "    model.eval()\n",
    "    g_nn = l4c.L4CasADi(model, batched=True, device='cuda')\n",
    "\n",
    "    # --- Initialize Robot State ---\n",
    "    # State: [x, y, theta, vx, vy, omega]\n",
    "    x_0 = ca.vertcat(ca.DM([-2.5, 22.5]) ,ca.DM.ones(1)*(-np.pi), ca.DM.zeros(nx))\n",
    "\n",
    "    # --- Logging Variables ---\n",
    "    all_trajectories = []\n",
    "    lambda_history = []\n",
    "    entropy_history = []\n",
    "    durations = []\n",
    "    z_history = []\n",
    "\n",
    "    # --- Initial MPC Setup ---\n",
    "    mpc_step, u, x_traj, x_dec, lam_dec = mpc_opt(g_nn, trees, lb, ub, x_0, lambda_k, lambda_h, mpc_horizon)\n",
    "    iteration = 0\n",
    "\n",
    "    while iteration < 300:\n",
    "        iteration += 1\n",
    "        for i in range(x_traj.full().shape[1]-1):\n",
    "            relative_position_robot_trees = np.tile(x_traj[:2, i+1].full().T, (trees.shape[0], 1)) - trees\n",
    "            distance_robot_trees = np.sqrt(np.sum(relative_position_robot_trees**2, axis=1))\n",
    "            theta = np.tile(x_traj.full()[2, i+1], (trees.shape[0], 1))  # Drone yaw\n",
    "            input_nn = ca.horzcat(relative_position_robot_trees, theta)\n",
    "            # Compute z_k using a neural network output (or similar)\n",
    "            z_k = ca.fmax(g_nn(input_nn), 0.5)\n",
    "            lambda_h = bayes(lambda_h, z_k)\n",
    "        \n",
    "        # Extract current state from the MPC trajectory (using the second state as current).\n",
    "        x_k = x_traj[:, 1].full().flatten()\n",
    "\n",
    "        # Simulate sensor observations for each tree.\n",
    "        z_k = ca.vertcat(*[fake_confidence(x_k, tree, fov=40) for tree in trees])\n",
    "        z_history.append(z_k.full().flatten())\n",
    "\n",
    "        # Update belief using the Bayesian update.\n",
    "        lambda_k = ca.fmin( bayes(lambda_k, z_k), 1 - 1e-6)\n",
    "\n",
    "        # Run MPC with updated state and belief. The previous solution (x_dec, lam_dec) is used as a warm start.\n",
    "        start_time = time.time()\n",
    "        u, x_traj, x_dec, lam_dec = mpc_step(ca.vertcat(x_k, lambda_k, lambda_h), x_dec, lam_dec)\n",
    "        durations.append(time.time() - start_time)\n",
    "\n",
    "        # Logging: compute total entropy and store history.\n",
    "        entropy_k = ca.sum1(entropy(lambda_k)).full().flatten()[0]\n",
    "        lambda_history.append(lambda_k.full().flatten().tolist())\n",
    "        entropy_history.append(entropy_k)\n",
    "        all_trajectories.append(x_traj.full().tolist())\n",
    "\n",
    "        lambda_h = lambda_k\n",
    "        \n",
    "        print(f\"Iteration {iteration}: x = {x_k}, Entropy sum = {entropy_k}, Beliefs = {lambda_k}\")\n",
    "\n",
    "        # Termination condition based on entropy.\n",
    "        if entropy_k < 2.75:\n",
    "            break\n",
    "\n",
    "    return all_trajectories, entropy_history, lambda_history, z_history, durations, g_nn, trees, lb, ub\n",
    "\n",
    "# =============================================================================\n",
    "# Entry Point\n",
    "# =============================================================================\n"
   ]
  },
  {
   "cell_type": "code",
   "execution_count": 51,
   "metadata": {},
   "outputs": [],
   "source": [
    "import plotly.graph_objects as go\n",
    "from plotly.subplots import make_subplots\n",
    "import numpy as np\n",
    "def plot_animated_trajectory_and_entropy_2d(all_trajectories, entropy_history, lambda_history, z_history, trees, lb, ub, computation_durations):\n",
    "    print(np.array(all_trajectories).shape)\n",
    "    \n",
    "    # Extract trajectory data\n",
    "    x_trajectory = np.array([traj[0] for traj in all_trajectories])\n",
    "    y_trajectory = np.array([traj[1] for traj in all_trajectories])\n",
    "    theta_trajectory = np.array([traj[2] for traj in all_trajectories])  # Drone orientation (yaw)\n",
    "    all_trajectories = np.array(all_trajectories)\n",
    "    lambda_history = np.array(lambda_history)\n",
    "    \n",
    "\n",
    "    # --- Some tunable parameters for the new attraction term ---\n",
    "    distance_threshold = 20.0   # [units] threshold distance for “nearby” trees\n",
    "    alpha = 20.0               # steepness for the smooth indicator\n",
    "    beta = 10.0                # steepness for the exponential activation (used below)\n",
    "\n",
    "    # Compute entropy reduction for each step\n",
    "    entropy_mpc_pred = []\n",
    "    attraction_history = []\n",
    "    for k in range(all_trajectories.shape[0]):\n",
    "        lambda_k = lambda_history[k]\n",
    "        entropy_mpc_pred_k = [entropy_history[k]]  # Start with the initial entropy value\n",
    "        for i in range(all_trajectories.shape[2]-1):\n",
    "            relative_position_robot_trees = np.tile(all_trajectories[k, :2, i+1], (trees.shape[0], 1)) - trees\n",
    "            distance_robot_trees = np.sqrt(np.sum(relative_position_robot_trees**2, axis=1))\n",
    "            theta = np.tile(all_trajectories[k, 2, i+1], (trees.shape[0], 1))  # Drone yaw\n",
    "            input_nn = ca.horzcat(relative_position_robot_trees, theta)\n",
    "            # Compute z_k using a neural network output (or similar)\n",
    "            z_k = ca.fmax(g_nn(input_nn), 0.5)\n",
    "            lambda_k = bayes(lambda_k, z_k)\n",
    "            reduction = ca.sum1(entropy(lambda_k)).full().flatten()[0]\n",
    "            entropy_mpc_pred_k.append(reduction)\n",
    "        entropy_mpc_pred.append(entropy_mpc_pred_k)\n",
    "\n",
    "\n",
    "        relative_pos = np.tile(all_trajectories[k, :2, 0].T, (trees.shape[0], 1))- trees\n",
    "        # Here, we impose that “each tree” is not too close.\n",
    "        # (If you intended a per‐tree constraint, you might need to loop over trees.)\n",
    "        # For now, we impose that the (squared) distance summed over all trees is >1.\n",
    "        d_vec =  np.diag(relative_pos @ relative_pos.T)  #ca.sumsqr(relative_pos)\n",
    "\n",
    "        # Compute the attraction term for step k\n",
    "        indicator_distance = 0.5 * (1 + np.tanh(alpha * (distance_threshold - d_vec)))\n",
    "        indicator_lambda = 0.5 * (1 + np.tanh(alpha * ( 0.8 - lambda_k)))\n",
    "        nearby_indicator = indicator_distance * indicator_lambda\n",
    "        nearby_count = np.sum(nearby_indicator)\n",
    "        attraction_activation = np.exp(-beta * nearby_count)\n",
    "\n",
    "        global_indicator_weighted = np.log((d_vec * (1-(lambda_k-0.5)*2) +1)) \n",
    "        global_count = np.sum(global_indicator_weighted)\n",
    "        att_cost = attraction_activation\n",
    "\n",
    "        # Store the attraction term value for step k\n",
    "        attraction_history.append(att_cost.flatten()[0])  # Convert to scalar and store\n",
    "\n",
    "\n",
    "    entropy_mpc_pred = np.array(entropy_mpc_pred)\n",
    "    attraction_history = np.array(attraction_history)\n",
    "\n",
    "    # Compute the sum of entropies for all trees at each frame\n",
    "    sum_entropy_history = entropy_history\n",
    "\n",
    "    # Compute cumulative computation durations\n",
    "    cumulative_durations = np.cumsum(computation_durations)\n",
    "    \n",
    "    # Create a subplot with 2 rows and 2 columns.\n",
    "    # Note: we use the lower-left cell (row=2, col=1) for the Z measurements bar chart.\n",
    "    fig = make_subplots(\n",
    "        rows=2, cols=2,\n",
    "        column_widths=[0.7, 0.3],\n",
    "        row_heights=[0.6, 0.4],\n",
    "        specs=[\n",
    "            [{\"type\": \"scatter\"}, {\"type\": \"scatter\"}],   # Row 1: 2D map and Sum of Entropies plot\n",
    "            [{\"type\": \"bar\"}, {\"type\": \"scatter\"}]          # Row 2: Z Measurements (Bar Chart) and Computation Durations plot\n",
    "        ]\n",
    "    )\n",
    "\n",
    "    # --------------------\n",
    "    # Subplot (1,1): Drone trajectory and trees on the 2D map\n",
    "    # --------------------\n",
    "    # Add the MPC Future Trajectory trace\n",
    "    fig.add_trace(\n",
    "        go.Scatter(\n",
    "            x=x_trajectory[0],\n",
    "            y=y_trajectory[0],\n",
    "            mode=\"lines+markers\",\n",
    "            name=\"MPC Future Trajectory\",\n",
    "            line=dict(color=\"red\", width=4),\n",
    "            marker=dict(size=5, color=\"blue\")\n",
    "        ),\n",
    "        row=1, col=1\n",
    "    )\n",
    "\n",
    "    # Add the actual Drone Trajectory trace\n",
    "    fig.add_trace(\n",
    "        go.Scatter(\n",
    "            x=[],\n",
    "            y=[],\n",
    "            mode=\"lines+markers\",\n",
    "            name=\"Drone Trajectory\",\n",
    "            line=dict(color=\"orange\", width=4),\n",
    "            marker=dict(size=5, color=\"orange\")\n",
    "        ),\n",
    "        row=1, col=1\n",
    "    )\n",
    "\n",
    "    # Add each tree as a scatter marker (initially red)\n",
    "    for i in range(trees.shape[0]):\n",
    "        fig.add_trace(\n",
    "            go.Scatter(\n",
    "                x=[trees[i, 0]],\n",
    "                y=[trees[i, 1]],\n",
    "                mode=\"markers+text\",  # Add text to the markers\n",
    "                marker=dict(\n",
    "                    size=10,\n",
    "                    color=\"#FF0000\",  # initial red color\n",
    "                    colorscale=[[0, \"#FF0000\"], [1, \"#00FF00\"]],  # red to green\n",
    "                    cmin=0,\n",
    "                    cmax=1,\n",
    "                    showscale=False\n",
    "                ),\n",
    "                text=[f\"Tree {i}\"],  # Display only the tree ID\n",
    "                textposition=\"top center\",  # Position the text above the marker\n",
    "                name=f\"Tree {i}: λ={lambda_history[0][i]:.2f}\"  # Include Bayes value in the legend\n",
    "            ),\n",
    "            row=1, col=1\n",
    "        )\n",
    "    \n",
    "    # --------------------\n",
    "    # Subplot (1,2): Sum of Entropies plot\n",
    "    # --------------------\n",
    "    fig.add_trace(\n",
    "        go.Scatter(\n",
    "            x=[],\n",
    "            y=[],\n",
    "            mode=\"lines+markers\",\n",
    "            name=\"Sum of Entropies (Past)\",\n",
    "            line=dict(color=\"blue\", width=2),\n",
    "            marker=dict(size=5, color=\"blue\")\n",
    "        ),\n",
    "        row=1, col=2\n",
    "    )\n",
    "\n",
    "    fig.add_trace(\n",
    "        go.Scatter(\n",
    "            x=[],\n",
    "            y=[],\n",
    "            mode=\"lines+markers\",\n",
    "            name=\"Sum of Entropies (Future)\",\n",
    "            line=dict(color=\"purple\", width=2, dash=\"dot\"),\n",
    "            marker=dict(size=5, color=\"purple\")\n",
    "        ),\n",
    "        row=1, col=2\n",
    "    )\n",
    "    \n",
    "    # --------------------\n",
    "    # Subplot (2,2): Computation Durations plot\n",
    "    # --------------------\n",
    "    fig.add_trace(\n",
    "        go.Scatter(\n",
    "            x=[],\n",
    "            y=[],\n",
    "            mode=\"lines+markers\",\n",
    "            name=\"Computation Durations\",\n",
    "            line=dict(color=\"green\", width=2),\n",
    "            marker=dict(size=5, color=\"green\")\n",
    "        ),\n",
    "        row=2, col=2\n",
    "    )\n",
    "    \n",
    "    # --------------------\n",
    "    # NEW: Subplot (2,1): Z Measurements Bar Chart\n",
    "    # --------------------\n",
    "    fig.add_trace(\n",
    "        go.Bar(\n",
    "            x=list(range(trees.shape[0])),  # x-axis: tree indices\n",
    "            y=z_history[0],                 # initial z measurements for each tree at step 0\n",
    "            marker_color=\"blue\",\n",
    "            name=\"Z Measurements\"\n",
    "        ),\n",
    "        \n",
    "        row=2, col=1\n",
    "    )\n",
    "\n",
    "    # Add the bar plot for the attraction term\n",
    "    fig.add_trace(\n",
    "        go.Bar(\n",
    "            x=[trees.shape[0]],  # Place the attraction term at the end of the x-axis\n",
    "            y=[attraction_history[0]],  # Initial attraction term value\n",
    "            marker_color=\"red\",\n",
    "            name=\"Attraction Term\"\n",
    "        ),\n",
    "        row=2, col=1\n",
    "    )\n",
    "\n",
    "    # Fix the y-axis limits for the bar plot (row=2, col=1)\n",
    "    fig.update_yaxes(range=[0.5, 1.0], row=2, col=1)\n",
    "    # --------------------\n",
    "    # Create frames for animation\n",
    "    # --------------------\n",
    "    frames = []\n",
    "    for k in range(len(entropy_mpc_pred)):\n",
    "        # Update tree colors and labels based on lambda values\n",
    "        tree_data = []\n",
    "        for i in range(trees.shape[0]):\n",
    "            tree_data.append(\n",
    "                go.Scatter(\n",
    "                    x=[trees[i, 0]],\n",
    "                    y=[trees[i, 1]],\n",
    "                    mode=\"markers+text\",  # Add text to the markers\n",
    "                    marker=dict(\n",
    "                        size=10,\n",
    "                        color=[2*(lambda_history[k][i] - 0.5)],  # color value computed from lambda\n",
    "                        colorscale=[[0, \"#FF0000\"], [1, \"#00FF00\"]],\n",
    "                        cmin=0,\n",
    "                        cmax=1,\n",
    "                        showscale=False\n",
    "                    ),\n",
    "                    text=[f\"Tree {i}\"],  # Display only the tree ID\n",
    "                    textposition=\"top center\",  # Position the text above the marker\n",
    "                    name=f\"Tree {i}: λ={lambda_history[k][i]:.2f}\"  # Update legend with current Bayes value\n",
    "                )\n",
    "            )\n",
    "        # Update the sum of entropies plot data\n",
    "        sum_entropy_past = sum_entropy_history[:k+1]\n",
    "        sum_entropy_future = entropy_mpc_pred[k]\n",
    "        \n",
    "        # Update computation durations plot data\n",
    "        computation_durations_past = computation_durations[:k+1]\n",
    "        \n",
    "        # Create drone orientation arrows (for visualization on the 2D map)\n",
    "        x_start = x_trajectory[k]  # drone x positions along MPC horizon\n",
    "        y_start = y_trajectory[k]  # drone y positions\n",
    "        theta = theta_trajectory[k]  # drone yaw angles\n",
    "        x_end = x_start + 0.5 * np.cos(theta)\n",
    "        y_end = y_start + 0.5 * np.sin(theta)\n",
    "        list_of_actual_orientations = []\n",
    "        for x0, y0, x1, y1 in zip(x_start, y_start, x_end, y_end):\n",
    "            arrow = go.layout.Annotation(\n",
    "                dict(\n",
    "                    x=x1,\n",
    "                    y=y1,\n",
    "                    xref=\"x\", yref=\"y\",\n",
    "                    text=\"\",\n",
    "                    showarrow=True,\n",
    "                    axref=\"x\", ayref=\"y\",\n",
    "                    ax=x0,\n",
    "                    ay=y0,\n",
    "                    arrowhead=3,\n",
    "                    arrowwidth=1.5,\n",
    "                    arrowcolor=\"red\"\n",
    "                )\n",
    "            )\n",
    "            list_of_actual_orientations.append(arrow)\n",
    "        \n",
    "        # Also add arrows for the actual drone trajectory (row 1, col 1)\n",
    "        x_start_actual = x_trajectory[:k+1, 0]\n",
    "        y_start_actual = y_trajectory[:k+1, 0]\n",
    "        theta_actual = theta_trajectory[:k+1, 0]\n",
    "        x_end_actual = x_start_actual + 0.5 * np.cos(theta_actual)\n",
    "        y_end_actual = y_start_actual + 0.5 * np.sin(theta_actual)\n",
    "        for x0, y0, x1, y1 in zip(x_start_actual, y_start_actual, x_end_actual, y_end_actual):\n",
    "            arrow = go.layout.Annotation(\n",
    "                dict(\n",
    "                    x=x1,\n",
    "                    y=y1,\n",
    "                    xref=\"x\", yref=\"y\",\n",
    "                    text=\"\",\n",
    "                    showarrow=True,\n",
    "                    axref=\"x\", ayref=\"y\",\n",
    "                    ax=x0,\n",
    "                    ay=y0,\n",
    "                    arrowhead=3,\n",
    "                    arrowwidth=1.5,\n",
    "                    arrowcolor=\"orange\"\n",
    "                )\n",
    "            )\n",
    "            list_of_actual_orientations.append(arrow)\n",
    "        \n",
    "         # Build the frame\n",
    "        frame = go.Frame(\n",
    "            data=[\n",
    "                # Trace 0: MPC Future Trajectory (row 1, col 1)\n",
    "                go.Scatter(\n",
    "                    x=x_trajectory[k],\n",
    "                    y=y_trajectory[k],\n",
    "                    mode=\"lines+markers\",\n",
    "                    line=dict(color=\"red\", width=4),\n",
    "                    marker=dict(size=5, color=\"blue\")\n",
    "                ),\n",
    "                # Trace 1: Drone Trajectory (row 1, col 1)\n",
    "                go.Scatter(\n",
    "                    x=x_trajectory[:k+1, 0],\n",
    "                    y=y_trajectory[:k+1, 0],\n",
    "                    mode=\"lines+markers\",\n",
    "                    line=dict(color=\"orange\", width=4),\n",
    "                    marker=dict(size=5, color=\"orange\")\n",
    "                ),\n",
    "                # Traces for trees (row 1, col 1)\n",
    "                *tree_data,\n",
    "                # Trace for Sum of Entropies (Past) (row 1, col 2)\n",
    "                go.Scatter(\n",
    "                    x=np.arange(len(sum_entropy_past)),\n",
    "                    y=sum_entropy_past,\n",
    "                    mode=\"lines+markers\",\n",
    "                    line=dict(color=\"blue\", width=2),\n",
    "                    marker=dict(size=5, color=\"blue\")\n",
    "                ),\n",
    "                # Trace for Sum of Entropies (Future) (row 1, col 2)\n",
    "                go.Scatter(\n",
    "                    x=np.arange(k, k + len(sum_entropy_future)),\n",
    "                    y=sum_entropy_future,\n",
    "                    mode=\"lines+markers\",\n",
    "                    line=dict(color=\"purple\", width=2, dash=\"dot\"),\n",
    "                    marker=dict(size=5, color=\"purple\")\n",
    "                ),\n",
    "                # Trace for Computation Durations (row 2, col 2)\n",
    "                go.Scatter(\n",
    "                    x=np.arange(len(computation_durations_past)),\n",
    "                    y=computation_durations_past,\n",
    "                    mode=\"lines+markers\",\n",
    "                    line=dict(color=\"green\", width=2),\n",
    "                    marker=dict(size=5, color=\"green\")\n",
    "                ),\n",
    "                # Trace for Z Measurements (Bar Chart) (row 2, col 1)\n",
    "                go.Bar(\n",
    "                    x=list(range(trees.shape[0])),\n",
    "                    y=z_history[k],\n",
    "                    marker_color=\"blue\",\n",
    "                    name=\"Z Measurements\"\n",
    "                ),\n",
    "                # Trace for Attraction Term (Bar Chart) (row 2, col 1)\n",
    "                go.Bar(\n",
    "                    x=[trees.shape[0]],  # Place the attraction term at the end of the x-axis\n",
    "                    y=[attraction_history[k]],  # Current attraction term value\n",
    "                    marker_color=\"red\",\n",
    "                    name=\"Attraction Term\"\n",
    "                )\n",
    "            ],\n",
    "            name=f\"Frame {k}\",\n",
    "            layout=dict(annotations=list_of_actual_orientations)\n",
    "        )\n",
    "        frames.append(frame)\n",
    "\n",
    "    # Add frames to the figure\n",
    "    fig.frames = frames\n",
    "\n",
    "    # Update layout for the subplots and overall figure\n",
    "    fig.update_layout(\n",
    "        title=\"Drone Trajectory, Sum of Entropies, Computation Durations, and Z Measurements\",\n",
    "        # Subplot (1,1)\n",
    "        xaxis=dict(title=\"X Position\", range=[lb[0] - 3, ub[0] + 3]),\n",
    "        yaxis=dict(title=\"Y Position\", range=[lb[1] - 3, ub[1] + 3]),\n",
    "        # Subplot (1,2)\n",
    "        xaxis2=dict(title=\"Time Step\"),\n",
    "        yaxis2=dict(title=\"Sum of Entropies\"),\n",
    "        # Subplot (2,1): Z Measurements\n",
    "        xaxis3=dict(title=\"Tree Index\"),\n",
    "        yaxis3=dict(title=\"Z Measurement\"),\n",
    "        # Subplot (2,2): Computation Durations\n",
    "        xaxis4=dict(title=\"Time Step\"),\n",
    "        yaxis4=dict(title=\"Computation Duration (s)\"),\n",
    "        updatemenus=[\n",
    "            dict(\n",
    "                type=\"buttons\",\n",
    "                buttons=[\n",
    "                    dict(\n",
    "                        label=\"Play\",\n",
    "                        method=\"animate\",\n",
    "                        args=[None, {\"frame\": {\"duration\": 200, \"redraw\": True}, \"fromcurrent\": True}]\n",
    "                    ),\n",
    "                    dict(\n",
    "                        label=\"Pause\",\n",
    "                        method=\"animate\",\n",
    "                        args=[[None], {\"frame\": {\"duration\": 0, \"redraw\": False}, \"mode\": \"immediate\"}]\n",
    "                    )\n",
    "                ],\n",
    "                showactive=True,\n",
    "                x=0.1,\n",
    "                y=0\n",
    "            )\n",
    "        ],\n",
    "        sliders=[{\n",
    "            \"active\": 0,\n",
    "            \"yanchor\": \"top\",\n",
    "            \"xanchor\": \"left\",\n",
    "            \"currentvalue\": {\n",
    "                \"font\": {\"size\": 20},\n",
    "                \"prefix\": \"Frame:\",\n",
    "                \"visible\": True,\n",
    "                \"xanchor\": \"right\"\n",
    "            },\n",
    "            \"transition\": {\"duration\": 50, \"easing\": \"cubic-in-out\"},\n",
    "            \"pad\": {\"b\": 10, \"t\": 50},\n",
    "            \"len\": 0.9,\n",
    "            \"x\": 0.1,\n",
    "            \"y\": 0,\n",
    "            \"steps\": [\n",
    "                {\n",
    "                    \"args\": [[f.name], {\"frame\": {\"duration\": 50, \"redraw\": True}, \"mode\": \"immediate\"}],\n",
    "                    \"label\": str(k),\n",
    "                    \"method\": \"animate\",\n",
    "                }\n",
    "                for k, f in enumerate(fig.frames)\n",
    "            ],\n",
    "        }]\n",
    "    )\n",
    "\n",
    "    # Show the figure and write it to an HTML file\n",
    "    fig.show()\n",
    "    fig.write_html('neural_mpc_results.html')\n",
    "    return entropy_mpc_pred"
   ]
  },
  {
   "cell_type": "code",
   "execution_count": 52,
   "metadata": {},
   "outputs": [
    {
     "name": "stdout",
     "output_type": "stream",
     "text": [
      "[0.1, 0.1] [0.1, 0.1]\n"
     ]
    },
    {
     "ename": "TypeError",
     "evalue": "get_latest_best_model() missing 1 required positional argument: 'ripe'",
     "output_type": "error",
     "traceback": [
      "\u001b[0;31m---------------------------------------------------------------------------\u001b[0m",
      "\u001b[0;31mTypeError\u001b[0m                                 Traceback (most recent call last)",
      "Cell \u001b[0;32mIn[52], line 2\u001b[0m\n\u001b[1;32m      1\u001b[0m \u001b[38;5;28;01mif\u001b[39;00m \u001b[38;5;18m__name__\u001b[39m \u001b[38;5;241m==\u001b[39m \u001b[38;5;124m\"\u001b[39m\u001b[38;5;124m__main__\u001b[39m\u001b[38;5;124m\"\u001b[39m:\n\u001b[0;32m----> 2\u001b[0m     all_trajectories, entropy_history, lambda_history, z_history, durations, g_nn, trees, lb, ub \u001b[38;5;241m=\u001b[39m \u001b[43mmain\u001b[49m\u001b[43m(\u001b[49m\u001b[43m)\u001b[49m\n\u001b[1;32m      3\u001b[0m     \u001b[38;5;66;03m# Call the function to plot the animation\u001b[39;00m\n\u001b[1;32m      4\u001b[0m     entropy_mpc_pred \u001b[38;5;241m=\u001b[39m plot_animated_trajectory_and_entropy_2d(all_trajectories, entropy_history, lambda_history, z_history, trees, lb, ub, durations)\n",
      "Cell \u001b[0;32mIn[50], line 245\u001b[0m, in \u001b[0;36mmain\u001b[0;34m()\u001b[0m\n\u001b[1;32m    243\u001b[0m nn_input_dim \u001b[38;5;241m=\u001b[39m \u001b[38;5;241m3\u001b[39m  \u001b[38;5;66;03m# relative position (2) + heading (1)\u001b[39;00m\n\u001b[1;32m    244\u001b[0m model \u001b[38;5;241m=\u001b[39m MultiLayerPerceptron(input_dim\u001b[38;5;241m=\u001b[39mnn_input_dim)\n\u001b[0;32m--> 245\u001b[0m model\u001b[38;5;241m.\u001b[39mload_state_dict(torch\u001b[38;5;241m.\u001b[39mload(\u001b[43mget_latest_best_model\u001b[49m\u001b[43m(\u001b[49m\u001b[43mnn_input_dim\u001b[49m\u001b[43m)\u001b[49m))\n\u001b[1;32m    246\u001b[0m model\u001b[38;5;241m.\u001b[39meval()\n\u001b[1;32m    247\u001b[0m g_nn \u001b[38;5;241m=\u001b[39m l4c\u001b[38;5;241m.\u001b[39mL4CasADi(model, batched\u001b[38;5;241m=\u001b[39m\u001b[38;5;28;01mTrue\u001b[39;00m, device\u001b[38;5;241m=\u001b[39m\u001b[38;5;124m'\u001b[39m\u001b[38;5;124mcuda\u001b[39m\u001b[38;5;124m'\u001b[39m)\n",
      "\u001b[0;31mTypeError\u001b[0m: get_latest_best_model() missing 1 required positional argument: 'ripe'"
     ]
    }
   ],
   "source": [
    "if __name__ == \"__main__\":\n",
    "    all_trajectories, entropy_history, lambda_history, z_history, durations, g_nn, trees, lb, ub = main()\n",
    "    # Call the function to plot the animation\n",
    "    entropy_mpc_pred = plot_animated_trajectory_and_entropy_2d(all_trajectories, entropy_history, lambda_history, z_history, trees, lb, ub, durations)\n"
   ]
  },
  {
   "cell_type": "code",
   "execution_count": null,
   "metadata": {},
   "outputs": [],
   "source": [
    "import numpy as np\n",
    "import matplotlib.pyplot as plt\n",
    "import torch\n",
    "\n",
    "# ---------------------------\n",
    "# 1. Data Generation and Model Inference\n",
    "# ---------------------------\n",
    "# (Assuming your helper functions and model class are already defined elsewhere)\n",
    "#\n",
    "# Generate a fake dataset for prediction.\n",
    "# (Note: you might also already have X and Y from elsewhere for the ground truth.)\n",
    "X_nn, Y = load_data(fixedView=False, augment_data=False)\n",
    "\n",
    "# Compute the expected yaw for each row using arctan2(-y, -x)\n",
    "expected_yaw = torch.atan2(-X_nn[:, 1], -X_nn[:, 0])\n",
    "    \n",
    "# Create a boolean mask where the actual yaw is close to the expected yaw within the given tolerance.\n",
    "mask = torch.isclose(np.rad2deg(np.deg2rad(X_nn[:, 2])), expected_yaw, atol=0.1)\n",
    "\n",
    "X_nn = X_nn[mask]\n",
    "Y = Y[mask]\n",
    "\n",
    "# Load your trained model and perform prediction on X_nn.\n",
    "model = MultiLayerPerceptron(input_dim=nn_input_dim)\n",
    "model.load_state_dict(torch.load(get_latest_best_model(nn_input_dim)))\n",
    "model.eval()\n",
    "\n",
    "\n",
    "# Perform the model prediction\n",
    "with torch.no_grad():\n",
    "    y_test = model(torch.tensor(X_nn[:, :3], dtype=torch.float32)).detach().numpy()\n",
    "\n",
    "\n",
    "# ---------------------------\n",
    "# 2. Compute Arrow Components for Orientation\n",
    "# ---------------------------\n",
    "# Define a scaling factor for the arrow length.\n",
    "arrow_scale = 0.04\n",
    "\n",
    "# For ground truth:\n",
    "gt_x = X_nn[:, 0]\n",
    "gt_y = X_nn[:, 1]\n",
    "gt_yaw = X_nn[:, 2]  # assumed to be the orientation (in radians)\n",
    "gt_output = Y.flatten()  # output values to use for coloring\n",
    "\n",
    "dx_gt = arrow_scale * np.cos(gt_yaw)\n",
    "dy_gt = arrow_scale * np.sin(gt_yaw)\n",
    "\n",
    "# For predicted:\n",
    "pred_x = X_nn[:, 0]\n",
    "pred_y = X_nn[:, 1]\n",
    "pred_yaw = X_nn[:, 2]\n",
    "pred_output = y_test.flatten()\n",
    "\n",
    "dx_pred = arrow_scale * np.cos(pred_yaw)\n",
    "dy_pred = arrow_scale * np.sin(pred_yaw)\n",
    "\n",
    "# ---------------------------\n",
    "# 3. Create 2D Subplots with Scatter and Quiver\n",
    "# ---------------------------\n",
    "fig, (ax1, ax2) = plt.subplots(1, 2, figsize=(12, 6))\n",
    "\n",
    "# --- Ground Truth Plot ---\n",
    "sc1 = ax1.scatter(gt_x, gt_y, c=gt_output, cmap='viridis', s=10, label='Drone Position')\n",
    "# For the quiver, we pass the same output array so that the arrows get colormapped.\n",
    "q1 = ax1.quiver(gt_x, gt_y, dx_gt, dy_gt, gt_output, cmap='viridis',\n",
    "                angles='xy', scale_units='xy', scale=0.1, width=0.02)\n",
    "ax1.set_xlabel('X')\n",
    "ax1.set_ylabel('Y')\n",
    "ax1.set_title('Ground Truth')\n",
    "ax1.grid(True)\n",
    "cb1 = fig.colorbar(sc1, ax=ax1)\n",
    "cb1.set_label('Output (Y)')\n",
    "\n",
    "# --- Predicted Plot ---\n",
    "sc2 = ax2.scatter(pred_x, pred_y, c=pred_output, cmap='viridis', s=10, label='Drone Position')\n",
    "q2 = ax2.quiver(pred_x, pred_y, dx_pred, dy_pred, pred_output, cmap='viridis',\n",
    "                angles='xy', scale_units='xy', scale=0.1, width=0.02)\n",
    "ax2.set_xlabel('X')\n",
    "ax2.set_ylabel('Y')\n",
    "ax2.set_title('Predicted')\n",
    "ax2.grid(True)\n",
    "cb2 = fig.colorbar(sc2, ax=ax2)\n",
    "cb2.set_label('Output (y_test)')\n",
    "\n",
    "plt.suptitle(\"Drone Conditions and Orientations: Ground Truth vs Predicted\", fontsize=16)\n",
    "plt.tight_layout(rect=[0, 0, 1, 0.95])\n",
    "plt.show()\n"
   ]
  }
 ],
 "metadata": {
  "kernelspec": {
   "display_name": "Python 3",
   "language": "python",
   "name": "python3"
  },
  "language_info": {
   "codemirror_mode": {
    "name": "ipython",
    "version": 3
   },
   "file_extension": ".py",
   "mimetype": "text/x-python",
   "name": "python",
   "nbconvert_exporter": "python",
   "pygments_lexer": "ipython3",
   "version": "3.8.10"
  }
 },
 "nbformat": 4,
 "nbformat_minor": 2
}
